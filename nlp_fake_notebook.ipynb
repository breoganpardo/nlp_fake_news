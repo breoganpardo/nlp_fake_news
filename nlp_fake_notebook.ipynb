{
 "cells": [
  {
   "cell_type": "markdown",
   "metadata": {},
   "source": [
    "# NLP ASSIGNMENT\n",
    "## Detecting fake news through NLP"
   ]
  },
  {
   "cell_type": "code",
   "execution_count": 40,
   "metadata": {},
   "outputs": [],
   "source": [
    "#Import required libraries\n",
    "import pandas as pd\n",
    "import numpy as np\n",
    "import itertools\n",
    "\n",
    "from utils import *\n",
    "from clf import *\n",
    "\n",
    "from sklearn.model_selection import train_test_split\n",
    "from sklearn.feature_extraction.text import CountVectorizer, TfidfVectorizer\n",
    "\n",
    "from sklearn.naive_bayes import MultinomialNB\n",
    "from sklearn.linear_model import PassiveAggressiveClassifier, LogisticRegression\n",
    "from sklearn.svm import SVC\n",
    "\n",
    "from sklearn.metrics import accuracy_score\n",
    "from sklearn.metrics import confusion_matrix\n",
    "\n",
    "from sklearn.model_selection import GridSearchCV\n",
    "from sklearn.metrics import classification_report\n",
    "\n",
    "from nltk.tokenize import word_tokenize\n",
    "\n",
    "import warnings\n",
    "warnings.filterwarnings(\"ignore\")"
   ]
  },
  {
   "cell_type": "code",
   "execution_count": 41,
   "metadata": {},
   "outputs": [],
   "source": [
    "#In order to be able to explore the whole DataFrame we have to set the option of maximum number of rows to 5k:\n",
    "#pd.set_option('display.max_rows',500)\n",
    "#pd.set_option('max_colwidth',1000)"
   ]
  },
  {
   "cell_type": "code",
   "execution_count": 42,
   "metadata": {},
   "outputs": [],
   "source": [
    "#Load trainning and test set\n",
    "train_set=pd.read_csv(filepath_or_buffer='./data/fake_or_real_news_training.csv',sep=',',header=0)\n",
    "validation_set=pd.read_csv(filepath_or_buffer='./data/fake_or_real_news_test.csv',sep=',',header=0)"
   ]
  },
  {
   "cell_type": "markdown",
   "metadata": {},
   "source": [
    "# 1. Base Line Model (Without Pre-processing)"
   ]
  },
  {
   "cell_type": "markdown",
   "metadata": {},
   "source": [
    "## 1.1. DATA EXPLORATION"
   ]
  },
  {
   "cell_type": "code",
   "execution_count": 43,
   "metadata": {
    "scrolled": true
   },
   "outputs": [
    {
     "data": {
      "text/html": [
       "<div>\n",
       "<style scoped>\n",
       "    .dataframe tbody tr th:only-of-type {\n",
       "        vertical-align: middle;\n",
       "    }\n",
       "\n",
       "    .dataframe tbody tr th {\n",
       "        vertical-align: top;\n",
       "    }\n",
       "\n",
       "    .dataframe thead th {\n",
       "        text-align: right;\n",
       "    }\n",
       "</style>\n",
       "<table border=\"1\" class=\"dataframe\">\n",
       "  <thead>\n",
       "    <tr style=\"text-align: right;\">\n",
       "      <th></th>\n",
       "      <th>ID</th>\n",
       "      <th>title</th>\n",
       "      <th>text</th>\n",
       "      <th>label</th>\n",
       "      <th>X1</th>\n",
       "      <th>X2</th>\n",
       "    </tr>\n",
       "  </thead>\n",
       "  <tbody>\n",
       "    <tr>\n",
       "      <th>0</th>\n",
       "      <td>8476</td>\n",
       "      <td>You Can Smell Hillary’s Fear</td>\n",
       "      <td>Daniel Greenfield, a Shillman Journalism Fellow at the Freedom Center, is a New York writer focusing on radical Islam. \\nIn the final stretch of the election, Hillary Rodham Clinton has gone to war with the FBI. \\nThe word “unprecedented” has been thrown around so often this election that it ought to be retired. But it’s still unprecedented for the nominee of a major political party to go war with the FBI. \\nBut that’s exactly what Hillary and her people have done. Coma patients just waking up now and watching an hour of CNN from their hospital beds would assume that FBI Director James Comey is Hillary’s opponent in this election. \\nThe FBI is under attack by everyone from Obama to CNN. Hillary’s people have circulated a letter attacking Comey. There are currently more media hit pieces lambasting him than targeting Trump. It wouldn’t be too surprising if the Clintons or their allies were to start running attack ads against the FBI. \\nThe FBI’s leadership is being warned that the en...</td>\n",
       "      <td>FAKE</td>\n",
       "      <td>NaN</td>\n",
       "      <td>NaN</td>\n",
       "    </tr>\n",
       "    <tr>\n",
       "      <th>1</th>\n",
       "      <td>10294</td>\n",
       "      <td>Watch The Exact Moment Paul Ryan Committed Political Suicide At A Trump Rally (VIDEO)</td>\n",
       "      <td>Google Pinterest Digg Linkedin Reddit Stumbleupon Print Delicious Pocket Tumblr \\nThere are two fundamental truths in this world: Paul Ryan desperately wants to be president. And Paul Ryan will never be president. Today proved it. \\nIn a particularly staggering example of political cowardice, Paul Ryan re-re-re-reversed course and announced that he was back on the Trump Train after all. This was an aboutface from where he was a few weeks ago. He had previously declared he would not be supporting or defending Trump after a tape was made public in which Trump bragged about assaulting women. Suddenly, Ryan was appearing at a pro-Trump rally and boldly declaring that he already sent in his vote to make him President of the United States. It was a surreal moment. The figurehead of the Republican Party dosed himself in gasoline, got up on a stage on a chilly afternoon in Wisconsin, and lit a match. . @SpeakerRyan says he voted for @realDonaldTrump : “Republicans, it is time to come home”...</td>\n",
       "      <td>FAKE</td>\n",
       "      <td>NaN</td>\n",
       "      <td>NaN</td>\n",
       "    </tr>\n",
       "    <tr>\n",
       "      <th>2</th>\n",
       "      <td>3608</td>\n",
       "      <td>Kerry to go to Paris in gesture of sympathy</td>\n",
       "      <td>U.S. Secretary of State John F. Kerry said Monday that he will stop in Paris later this week, amid criticism that no top American officials attended Sunday’s unity march against terrorism.\\n\\nKerry said he expects to arrive in Paris Thursday evening, as he heads home after a week abroad. He said he will fly to France at the conclusion of a series of meetings scheduled for Thursday in Sofia, Bulgaria. He plans to meet the next day with Foreign Minister Laurent Fabius and President Francois Hollande, then return to Washington.\\n\\nThe visit by Kerry, who has family and childhood ties to the country and speaks fluent French, could address some of the criticism that the United States snubbed France in its darkest hour in many years.\\n\\nThe French press on Monday was filled with questions about why neither President Obama nor Kerry attended Sunday’s march, as about 40 leaders of other nations did. Obama was said to have stayed away because his own security needs can be taxing on a countr...</td>\n",
       "      <td>REAL</td>\n",
       "      <td>NaN</td>\n",
       "      <td>NaN</td>\n",
       "    </tr>\n",
       "    <tr>\n",
       "      <th>3</th>\n",
       "      <td>10142</td>\n",
       "      <td>Bernie supporters on Twitter erupt in anger against the DNC: 'We tried to warn you!'</td>\n",
       "      <td>— Kaydee King (@KaydeeKing) November 9, 2016 The lesson from tonight's Dem losses: Time for Democrats to start listening to the voters. Stop running the same establishment candidates. \\n— People For Bernie (@People4Bernie) November 9, 2016 If Dems didn't want a tight race they shouldn't have worked against Bernie. \\n— Walker Bragman (@WalkerBragman) November 9, 2016 \\nNew York Times columnist Paul Krugman, who was one of Hillary Clinton’s most outspoken surrogates during the contentious Democratic primary, blamed Clinton’s poor performance on Green Party candidate Jill Stein, who has so far received a negligible number of votes nationally, saying Stein was the Ralph Nader of 2016 in preventing a Clinton victory. The account @BerniesTeachers threw Krugman’s analysis back in his face. Your candidate was the issue. Take responsibility. https://t.co/KHyOuUSrFS \\n— Teachers for Bernie (@BerniesTeachers) November 9, 2016 \\nAna Navarro, a Republican who recently endorsed Hillary Clinton, ...</td>\n",
       "      <td>FAKE</td>\n",
       "      <td>NaN</td>\n",
       "      <td>NaN</td>\n",
       "    </tr>\n",
       "    <tr>\n",
       "      <th>4</th>\n",
       "      <td>875</td>\n",
       "      <td>The Battle of New York: Why This Primary Matters</td>\n",
       "      <td>It's primary day in New York and front-runners Hillary Clinton and Donald Trump are leading in the polls.\\n\\nTrump is now vowing to win enough delegates to clinch the Republican nomination and prevent a contested convention. But Sens.Ted Cruz, R-Texas, Bernie Sanders, D-Vt., and Ohio Gov. John Kasich and aren't giving up just yet.\\n\\nA big win in New York could tip the scales for both the Republican and Democratic front-runners in this year's race for the White House. Clinton and Trump have each suffered losses in recent contests, shifting the momentum to their rivals.\\n\\n\"We have won eight out of the last nine caucuses and primaries! Cheer!\" Sanders recently told supporters.\\n\\nWhile wins in New York for Trump and Clinton are expected, the margins of those victories are also important.\\n\\nTrump needs to capture more than 50 percent of the vote statewide if he wants to be positioned to win all of the state's 95 GOP delegates. That would put him one step closer to avoiding a contest...</td>\n",
       "      <td>REAL</td>\n",
       "      <td>NaN</td>\n",
       "      <td>NaN</td>\n",
       "    </tr>\n",
       "  </tbody>\n",
       "</table>\n",
       "</div>"
      ],
      "text/plain": [
       "      ID  \\\n",
       "0   8476   \n",
       "1  10294   \n",
       "2   3608   \n",
       "3  10142   \n",
       "4    875   \n",
       "\n",
       "                                                                                   title  \\\n",
       "0                                                           You Can Smell Hillary’s Fear   \n",
       "1  Watch The Exact Moment Paul Ryan Committed Political Suicide At A Trump Rally (VIDEO)   \n",
       "2                                            Kerry to go to Paris in gesture of sympathy   \n",
       "3   Bernie supporters on Twitter erupt in anger against the DNC: 'We tried to warn you!'   \n",
       "4                                       The Battle of New York: Why This Primary Matters   \n",
       "\n",
       "                                                                                                                                                                                                                                                                                                                                                                                                                                                                                                                                                                                                                                                                                                                                                                                                                                                                                                                                                                                                                                      text  \\\n",
       "0  Daniel Greenfield, a Shillman Journalism Fellow at the Freedom Center, is a New York writer focusing on radical Islam. \\nIn the final stretch of the election, Hillary Rodham Clinton has gone to war with the FBI. \\nThe word “unprecedented” has been thrown around so often this election that it ought to be retired. But it’s still unprecedented for the nominee of a major political party to go war with the FBI. \\nBut that’s exactly what Hillary and her people have done. Coma patients just waking up now and watching an hour of CNN from their hospital beds would assume that FBI Director James Comey is Hillary’s opponent in this election. \\nThe FBI is under attack by everyone from Obama to CNN. Hillary’s people have circulated a letter attacking Comey. There are currently more media hit pieces lambasting him than targeting Trump. It wouldn’t be too surprising if the Clintons or their allies were to start running attack ads against the FBI. \\nThe FBI’s leadership is being warned that the en...   \n",
       "1  Google Pinterest Digg Linkedin Reddit Stumbleupon Print Delicious Pocket Tumblr \\nThere are two fundamental truths in this world: Paul Ryan desperately wants to be president. And Paul Ryan will never be president. Today proved it. \\nIn a particularly staggering example of political cowardice, Paul Ryan re-re-re-reversed course and announced that he was back on the Trump Train after all. This was an aboutface from where he was a few weeks ago. He had previously declared he would not be supporting or defending Trump after a tape was made public in which Trump bragged about assaulting women. Suddenly, Ryan was appearing at a pro-Trump rally and boldly declaring that he already sent in his vote to make him President of the United States. It was a surreal moment. The figurehead of the Republican Party dosed himself in gasoline, got up on a stage on a chilly afternoon in Wisconsin, and lit a match. . @SpeakerRyan says he voted for @realDonaldTrump : “Republicans, it is time to come home”...   \n",
       "2  U.S. Secretary of State John F. Kerry said Monday that he will stop in Paris later this week, amid criticism that no top American officials attended Sunday’s unity march against terrorism.\\n\\nKerry said he expects to arrive in Paris Thursday evening, as he heads home after a week abroad. He said he will fly to France at the conclusion of a series of meetings scheduled for Thursday in Sofia, Bulgaria. He plans to meet the next day with Foreign Minister Laurent Fabius and President Francois Hollande, then return to Washington.\\n\\nThe visit by Kerry, who has family and childhood ties to the country and speaks fluent French, could address some of the criticism that the United States snubbed France in its darkest hour in many years.\\n\\nThe French press on Monday was filled with questions about why neither President Obama nor Kerry attended Sunday’s march, as about 40 leaders of other nations did. Obama was said to have stayed away because his own security needs can be taxing on a countr...   \n",
       "3  — Kaydee King (@KaydeeKing) November 9, 2016 The lesson from tonight's Dem losses: Time for Democrats to start listening to the voters. Stop running the same establishment candidates. \\n— People For Bernie (@People4Bernie) November 9, 2016 If Dems didn't want a tight race they shouldn't have worked against Bernie. \\n— Walker Bragman (@WalkerBragman) November 9, 2016 \\nNew York Times columnist Paul Krugman, who was one of Hillary Clinton’s most outspoken surrogates during the contentious Democratic primary, blamed Clinton’s poor performance on Green Party candidate Jill Stein, who has so far received a negligible number of votes nationally, saying Stein was the Ralph Nader of 2016 in preventing a Clinton victory. The account @BerniesTeachers threw Krugman’s analysis back in his face. Your candidate was the issue. Take responsibility. https://t.co/KHyOuUSrFS \\n— Teachers for Bernie (@BerniesTeachers) November 9, 2016 \\nAna Navarro, a Republican who recently endorsed Hillary Clinton, ...   \n",
       "4  It's primary day in New York and front-runners Hillary Clinton and Donald Trump are leading in the polls.\\n\\nTrump is now vowing to win enough delegates to clinch the Republican nomination and prevent a contested convention. But Sens.Ted Cruz, R-Texas, Bernie Sanders, D-Vt., and Ohio Gov. John Kasich and aren't giving up just yet.\\n\\nA big win in New York could tip the scales for both the Republican and Democratic front-runners in this year's race for the White House. Clinton and Trump have each suffered losses in recent contests, shifting the momentum to their rivals.\\n\\n\"We have won eight out of the last nine caucuses and primaries! Cheer!\" Sanders recently told supporters.\\n\\nWhile wins in New York for Trump and Clinton are expected, the margins of those victories are also important.\\n\\nTrump needs to capture more than 50 percent of the vote statewide if he wants to be positioned to win all of the state's 95 GOP delegates. That would put him one step closer to avoiding a contest...   \n",
       "\n",
       "  label   X1   X2  \n",
       "0  FAKE  NaN  NaN  \n",
       "1  FAKE  NaN  NaN  \n",
       "2  REAL  NaN  NaN  \n",
       "3  FAKE  NaN  NaN  \n",
       "4  REAL  NaN  NaN  "
      ]
     },
     "execution_count": 43,
     "metadata": {},
     "output_type": "execute_result"
    }
   ],
   "source": [
    "#Show the structure of the train_set to then evaluate each feature\n",
    "train_set.head(5)"
   ]
  },
  {
   "cell_type": "markdown",
   "metadata": {},
   "source": [
    "The target variable is label. Label should have only 2 values:\n",
    "* Fake\n",
    "* Real\n",
    "\n",
    "However it can be seen that initially this is not the case. There are a total of 35 different values for label, which means that **33 values are incorrect**."
   ]
  },
  {
   "cell_type": "code",
   "execution_count": 5,
   "metadata": {},
   "outputs": [
    {
     "name": "stdout",
     "output_type": "stream",
     "text": [
      "The total number of values under the label column are 35\n"
     ]
    }
   ],
   "source": [
    "n_classes=train_set['label'].value_counts().count()\n",
    "print(f'The total number of values under the label column are {n_classes}')"
   ]
  },
  {
   "cell_type": "markdown",
   "metadata": {},
   "source": [
    "It seems that the X1 and X2 are mostly empty so we are going to evaluate the missing values in each feature."
   ]
  },
  {
   "cell_type": "code",
   "execution_count": 6,
   "metadata": {},
   "outputs": [
    {
     "name": "stdout",
     "output_type": "stream",
     "text": [
      "Your selected dataframe has 6 columns.\n",
      "There are 2 columns that have missing values.\n"
     ]
    },
    {
     "data": {
      "text/html": [
       "<div>\n",
       "<style scoped>\n",
       "    .dataframe tbody tr th:only-of-type {\n",
       "        vertical-align: middle;\n",
       "    }\n",
       "\n",
       "    .dataframe tbody tr th {\n",
       "        vertical-align: top;\n",
       "    }\n",
       "\n",
       "    .dataframe thead th {\n",
       "        text-align: right;\n",
       "    }\n",
       "</style>\n",
       "<table border=\"1\" class=\"dataframe\">\n",
       "  <thead>\n",
       "    <tr style=\"text-align: right;\">\n",
       "      <th></th>\n",
       "      <th>Missing Values</th>\n",
       "      <th>% of Total Values</th>\n",
       "    </tr>\n",
       "  </thead>\n",
       "  <tbody>\n",
       "    <tr>\n",
       "      <th>X2</th>\n",
       "      <td>3997</td>\n",
       "      <td>99.9</td>\n",
       "    </tr>\n",
       "    <tr>\n",
       "      <th>X1</th>\n",
       "      <td>3966</td>\n",
       "      <td>99.2</td>\n",
       "    </tr>\n",
       "  </tbody>\n",
       "</table>\n",
       "</div>"
      ],
      "text/plain": [
       "    Missing Values  % of Total Values\n",
       "X2            3997               99.9\n",
       "X1            3966               99.2"
      ]
     },
     "execution_count": 6,
     "metadata": {},
     "output_type": "execute_result"
    }
   ],
   "source": [
    "# Using the own defined missing_values_table function,features that have missing values and the percentage is summarized\n",
    "missing_values_table(train_set)"
   ]
  },
  {
   "cell_type": "code",
   "execution_count": 7,
   "metadata": {},
   "outputs": [],
   "source": [
    "################################################################################\n",
    "# I would remove this since the pd.value_counts() already provides a histogram #\n",
    "################################################################################\n",
    "#np.unique(train_set.label).head()"
   ]
  },
  {
   "cell_type": "markdown",
   "metadata": {},
   "source": [
    "It seems that the X1 and X2 features have some useful information and that the \"label\" feature has some mistaken rows. Thus we are going to determine how many rows have a different value than FAKE or REAL. "
   ]
  },
  {
   "cell_type": "code",
   "execution_count": 8,
   "metadata": {},
   "outputs": [
    {
     "data": {
      "text/plain": [
       "33"
      ]
     },
     "execution_count": 8,
     "metadata": {},
     "output_type": "execute_result"
    }
   ],
   "source": [
    "len(train_set[~((train_set.label == 'FAKE') | (train_set.label == 'REAL'))])"
   ]
  },
  {
   "cell_type": "markdown",
   "metadata": {},
   "source": [
    "## 1.2.DATA CLEANING"
   ]
  },
  {
   "cell_type": "markdown",
   "metadata": {},
   "source": [
    "\n",
    "### Fixing incorrect rows"
   ]
  },
  {
   "cell_type": "markdown",
   "metadata": {},
   "source": [
    "To understand what is happening with those 33 rows that have errors in the label we are going to separate them from the train_set to then do some EDA."
   ]
  },
  {
   "cell_type": "code",
   "execution_count": 9,
   "metadata": {},
   "outputs": [
    {
     "data": {
      "text/html": [
       "<div>\n",
       "<style scoped>\n",
       "    .dataframe tbody tr th:only-of-type {\n",
       "        vertical-align: middle;\n",
       "    }\n",
       "\n",
       "    .dataframe tbody tr th {\n",
       "        vertical-align: top;\n",
       "    }\n",
       "\n",
       "    .dataframe thead th {\n",
       "        text-align: right;\n",
       "    }\n",
       "</style>\n",
       "<table border=\"1\" class=\"dataframe\">\n",
       "  <thead>\n",
       "    <tr style=\"text-align: right;\">\n",
       "      <th></th>\n",
       "      <th>ID</th>\n",
       "      <th>title</th>\n",
       "      <th>text</th>\n",
       "      <th>label</th>\n",
       "      <th>X1</th>\n",
       "      <th>X2</th>\n",
       "    </tr>\n",
       "  </thead>\n",
       "  <tbody>\n",
       "    <tr>\n",
       "      <th>192</th>\n",
       "      <td>599</td>\n",
       "      <td>Election Day: No Legal Pot In Ohio</td>\n",
       "      <td>Democrats Lose In The South</td>\n",
       "      <td>Election Day: No Legal Pot In Ohio; Democrats Lose In The South\\n\\nTuesday is \"off year\" Election Day in parts of the country. Legalizing marijuana is on the ballot in Ohio, Houston voters will decide on an equal rights ordinance and San Francisco weighs short-term rentals in what's being called the \"Airbnb Initiative.\"\\n\\nElsewhere, eyes are on governor races in Kentucky and Louisiana, and whether Democrats can make any progress in the South.\\n\\nHere's a look at some of the races:\\n\\nHouston voters will decide whether to keep an equal rights ordinance that was approved by the City Council last year. The Houston Equal Rights Ordinance (HERO) would ban discrimination based on sexual orientation and gender identity — criteria not covered by national anti-discrimination laws. The ordinance is hotly debated, particularly after some opposition ads were released. The ads claim that the ordinance would allow men who identify as women to assault women and young girls in bathrooms.\\n\\nHilla...</td>\n",
       "      <td>REAL</td>\n",
       "      <td>NaN</td>\n",
       "    </tr>\n",
       "    <tr>\n",
       "      <th>308</th>\n",
       "      <td>10194</td>\n",
       "      <td>Who rode it best? Jesse Jackson mounts up to fight pipeline</td>\n",
       "      <td>Leonardo DiCaprio to the rescue?</td>\n",
       "      <td>Who rode it best? Jesse Jackson mounts up to fight pipeline; Leonardo DiCaprio to the rescue? Posted at 6:41 pm on October 26, 2016 by Brett T. Share on Facebook Share on Twitter \\nVladimir Putin might have popularized the shirtless-on-horseback calendar pose that was echoed recently by Alex Jones , but Jesse Jackson deserves credit for at least one thing: he chose to keep his shirt on Wednesday when he rode up to the front lines of a protest against the Dakota Access Pipeline. \\n— Marisa Villarreal (@marisa_villarr) October 26, 2016 Proud to stand with the Sioux Indians today in North Dakota. #StandingWithStandingRock pic.twitter.com/0dPbDk6RJD \\n— Rev Jesse Jackson Sr (@RevJJackson) October 26, 2016 Jesse Jackson on the frontline with that native bling #NoDAPL pic.twitter.com/QevCYFugN3 \\n— Ruth Hopkins (@RuthHHopkins) October 26, 2016 \\nSeen standing with Jackson (literally; check over his shoulder above) was “Avengers” actor Mark Ruffalo, who offered his own exclusive scoop of ...</td>\n",
       "      <td>FAKE</td>\n",
       "      <td>NaN</td>\n",
       "    </tr>\n",
       "    <tr>\n",
       "      <th>382</th>\n",
       "      <td>356</td>\n",
       "      <td>Black Hawk crashes off Florida</td>\n",
       "      <td>human remains found</td>\n",
       "      <td>(CNN) Thick fog forced authorities to suspend the air search Wednesday for seven Marines and four Army aircrew, feared dead after their Black Hawk helicopter crashed into waters off the Florida Panhandle.\\n\\nThe helicopter was first reported missing at about 8:30 p.m. (9:30 p.m. ET) Tuesday. Hours later, searchers found debris around Okaloosa Island near Eglin Air Force Base, base spokesman Andy Bourland said.\\n\\nThis debris washed up on both the north and south sides of Santa Rosa Sound, which connects mainland northern Florida and a barrier island.\\n\\nThe air search is expected to resume midday Thursday, the spokesman said. A spokeswoman for the Coast Guard said that boats will continue scouring the waters throughout the night Wednesday, weather permitting.\\n\\nHuman remains have washed ashore in the area near Eglin.\\n\\nBase spokeswoman Jasmine Porterfield didn't specify what was found, noting the search-and-rescue mission remained underway. Still, there was little hope for a mira...</td>\n",
       "      <td>REAL</td>\n",
       "      <td>NaN</td>\n",
       "    </tr>\n",
       "    <tr>\n",
       "      <th>660</th>\n",
       "      <td>2786</td>\n",
       "      <td>Afghanistan: 19 die in air attacks on hospital</td>\n",
       "      <td>U.S. investigating</td>\n",
       "      <td>(CNN) Aerial bombardments blew apart a Doctors Without Borders hospital in the battleground Afghan city of Kunduz about the time of a U.S. airstrike early Saturday, killing at least 19 people, officials said.\\n\\nThe blasts left part of the hospital in flames and rubble, killing 12 staffers and seven patients -- including three children -- and injuring 37 other people, the charity said.\\n\\nAs the United States said it was investigating what struck the hospital during the night, the charity expressed shock and demanded answers, stressing that all combatants had been told long ago where the hospital was.\\n\\n\"(The bombing) constitutes a grave violation of international humanitarian law,\" Doctors Without Borders, known internationally as Medecins Sans Frontieres, or MSF, said.\\n\\n\"We were running a hospital treating patients, including wounded combatants from both sides -- this was not a 'Taliban base,' \" said Dr. Joanne Liu, international president of Doctors Without Borders or Médecin...</td>\n",
       "      <td>REAL</td>\n",
       "      <td>NaN</td>\n",
       "    </tr>\n",
       "    <tr>\n",
       "      <th>889</th>\n",
       "      <td>3622</td>\n",
       "      <td>Al Qaeda rep says group directed Paris magazine attack</td>\n",
       "      <td>US issues travel warning</td>\n",
       "      <td>A member of Al Qaeda's branch in Yemen said Friday that the group directed the massacre earlier this week at a Paris magazine, as the U.S. State Department issued a travel warning to citizens, saying they faced an increased risk of reprisals.\\n\\nEarlier Friday, near simultaneous raids by French police killed the two Islamist brothers behind the attack and another terrorist. The raids, conducted at locations 25 miles apart, took out Cherif and Said Kouachi and a suspect in a policewoman's killing who had seized hostages at a Paris grocery on the brothers' behalf, but also left four hostages dead, according to authorities and reports from the scene.\\n\\nThe Al Qaeda member on Friday provided a statement in English to The Associated Press saying \"the leadership of AQAP directed the operations and they have chosen their target carefully.\"\\n\\nThere was no independent confirmation of the report, and U.S. intelligence and counterterrorism officials say it is too early to conclude who is re...</td>\n",
       "      <td>REAL</td>\n",
       "      <td>NaN</td>\n",
       "    </tr>\n",
       "    <tr>\n",
       "      <th>911</th>\n",
       "      <td>7375</td>\n",
       "      <td>Shallow 5.4 magnitude earthquake rattles central Italy</td>\n",
       "      <td>shakes buildings in Rome</td>\n",
       "      <td>00 UTC © USGS Map of the earthquake's epicenter An earthquake with a preliminary magnitude of 5.4 rattled a broad swath of central Italy, including Rome, on Wednesday (Thursday NZT), just two months after a powerful temblor toppled villages, killing nearly 300 people. There were no immediate reports of damage. Italy's National Vulcanology Center said the epicenter was near Macerata, near Perugia. The US Geological Survey said it had a depth of some 10 kilometres, which is relatively shallow. The quake was felt across a broad swath of central and southern Italy, shaking centuries-old palazzi in Rome's historic centre. The Aug. 24 quake destroyed hilltop village of Amatrice and other nearby towns. Wednesday's quake was felt from Perugia in Umbria to the capital Rome to the central Italy town of Aquila, which was struck by a deadly quake in 2009. The mayor of Aquila, however, said there was no immediate report of damage. ​The quake struck at 7.10pm on Wednesday (local time). \"The ear...</td>\n",
       "      <td>FAKE</td>\n",
       "      <td>NaN</td>\n",
       "    </tr>\n",
       "    <tr>\n",
       "      <th>1010</th>\n",
       "      <td>9097</td>\n",
       "      <td>ICE Agent Commits Suicide in NYC</td>\n",
       "      <td>Leaves Note Revealing Gov’t Plans to Round-up &amp; DISARM Americans During Economic &amp; Bank Collapse | EndingFed News Network</td>\n",
       "      <td>Email Print After writing a lengthy suicide note exposing terrifying plans the government has for American citizens, a US Customs Agent walked onto a pier in NYC and blew his brains out. Sources inside the New York City Police Department have revealed to SuperStation95, the contents of a suicide note found on the body and they are utterly frightening. The note, which says it was written over the course of a full week in advance, outlines why the officer chose to shoot himself: “The America I grew up in, and cherished, has been murdered by its own federal government. Our Constitution has become meaningless and our laws politicized so badly, they are no longer enforced except for political purposes” the note said. “Our elected officials are, to a person, utterly corrupt and completely devoid of any love or respect for the country which pays them. To them, everything is about getting and keeping power, and making illicit money from backroom deals.” The 42-year-old U.S. Immigration and...</td>\n",
       "      <td>FAKE</td>\n",
       "      <td>NaN</td>\n",
       "    </tr>\n",
       "    <tr>\n",
       "      <th>1043</th>\n",
       "      <td>9203</td>\n",
       "      <td>Political Correctness for Yuengling Brewery</td>\n",
       "      <td>What About Our Opioid Epidemic?</td>\n",
       "      <td>We Are Change \\n\\nIn today’s political climate even our beer is up for debate. And why shouldn’t it be? This is America. We debate things here. That’s how democracy works. (At least when the issues aren’t taboo.) Recently, it’s shown up in the state of Pennsylvania with Eric Trump, Donald Trump’s son, garnering an endorsement for the Republican candidate from Yuengling, America’s oldest brewery.\\nAnd now the debate turns to political action.\\nWith the most recent statement from Richard “Dick” Yuengling Jr., the 73-year-old owner of D. G. Yuengling &amp; Son’s, located in Pottsville, Pennsylvania — the seat of Schuylkill County — Yuengling said that his company was “behind” Trump. Inevitably, a lashing out occurred in the digital realm with regard to political correctness and expressively personal views. Customers weren’t pleased. They were offended. In fact, some even claimed that they’d never drink Yuengling again.\\nThis is what democracy is, and should be. Sure. And yet, something is...</td>\n",
       "      <td>FAKE</td>\n",
       "      <td>NaN</td>\n",
       "    </tr>\n",
       "    <tr>\n",
       "      <th>1218</th>\n",
       "      <td>1602</td>\n",
       "      <td>Poll gives Biden edge over Clinton against GOP candidates</td>\n",
       "      <td>VP meets with Trumka</td>\n",
       "      <td>A new national poll shows Vice President Biden faring better than Hillary Clinton in match-ups against top Republican presidential candidates, as the VP weighs jumping into the race -- and meets Thursday with a top labor leader.\\n\\nFox News has learned that Biden is meeting later in the day with AFL-CIO President Richard Trumka. This comes after he met last weekend with liberal icon, Massachusetts Sen. Elizabeth Warren.\\n\\nHe's making the rounds amid a flurry of polls showing Clinton potentially vulnerable. The latest Quinnipiac University National Poll shows Clinton polling better than Biden – who is not a declared candidate – in the Democratic primary race. But the poll gives Biden the slight edge when squared against leading GOP contenders.\\n\\n\"Note to Biden: They like you, they really like you, or they like you more than the others,” Tim Malloy, assistant director of the Quinnipiac University Poll, said in a statement.\\n\\nThe poll shows Biden leading Republican front-runner Don...</td>\n",
       "      <td>REAL</td>\n",
       "      <td>NaN</td>\n",
       "    </tr>\n",
       "    <tr>\n",
       "      <th>1438</th>\n",
       "      <td>4562</td>\n",
       "      <td>Russia begins airstrikes in Syria</td>\n",
       "      <td>U.S. warns of new concerns in conflict</td>\n",
       "      <td>Russian warplanes began airstrikes in Syria on Wednesday, adding an unpredictable new element to a four-year-old war that has already drawn in the United States and allies, fueled a refu­gee crisis and expanded the reach of the Islamic State.\\n\\nIn Washington, the dramatic escalation of Russia’s military involvement was viewed as an affront just two days after President Obama and Russian President Vladi­mir Putin sat down to discuss means for negotiating the deep differences in their countries’ approaches to the conflict in Syria.\\n\\nThe strikes sharply increase tensions with Russia as U.S. officials dispute Moscow’s claim that its aircraft targeted the Islamic State, the brutal extremist group that controls much of Syria and Iraq. Instead, U.S. officials said the strikes appeared to target opponents of Syria’s embattled President Bashar al-Assad, a key Russian ally. Those hit include U.S.-backed units that were trained and armed by the CIA, officials said.\\n\\nAccusing Russia of “p...</td>\n",
       "      <td>REAL</td>\n",
       "      <td>NaN</td>\n",
       "    </tr>\n",
       "    <tr>\n",
       "      <th>1493</th>\n",
       "      <td>4748</td>\n",
       "      <td>Trump &amp;amp</td>\n",
       "      <td>Clinton Were Very Convincing...on How Lousy the Other One Is</td>\n",
       "      <td>Let's pretend for a moment that the biggest headlines out of Sunday night's presidential debate had nothing to do with sexual assault allegations, or non-handshakes, or threats to jail political opponents—but instead were about policy. In that bizarre alternative universe, what could we actually learn?\\n\\nThat the two exhausted political parties have nothing much left to offer except critiques about how lousy the other one is.\\n\\nHosted by Matt Welch; camera and editing by Jim Epstein.\\n\\nLike us on Facebook.\\n\\nSubscribe to our podcast at iTunes.</td>\n",
       "      <td>REAL</td>\n",
       "      <td>NaN</td>\n",
       "    </tr>\n",
       "    <tr>\n",
       "      <th>1591</th>\n",
       "      <td>3508</td>\n",
       "      <td>Belgian police mount raids</td>\n",
       "      <td>prosecutors acknowledge missed opportunities</td>\n",
       "      <td>Belgian authorities missed a chance to press a key terrorism suspect for intelligence in the days ahead of the suicide bombings that struck the capital, prosecutors said Friday, acknowledging a significant security lapse that may have allowed his allies to attack unimpeded.\\n\\nEven as the men involved in Tuesday’s attacks were racing to strike, fearful that authorities were closing in on them, investigators did not ask the attackers’ jailed ally, Salah Abdeslam, about his knowledge of future plots, Belgian federal prosecutors said Friday.\\n\\nAbdeslam, believed to be the logistics chief of the Islamic State’s November attacks in Paris, was apprehended March 18, apparently spurring one of the Brussels attackers to write that he feared capture by the police. But after Abdeslam’s arrest, investigators concentrated solely on the Paris attacks. Abdeslam was questioned for two hours last Saturday, the day after he was captured in a raid at a Brussels safe house — and then no other discuss...</td>\n",
       "      <td>REAL</td>\n",
       "      <td>NaN</td>\n",
       "    </tr>\n",
       "    <tr>\n",
       "      <th>1630</th>\n",
       "      <td>7559</td>\n",
       "      <td>STATE OF GEORGIA FIRES PASTOR BECAUSE OF HIS FAITH</td>\n",
       "      <td>GOVERNMENT DIDN’T “APPROVE” BIBLICAL SERMONS</td>\n",
       "      <td>Home › SOCIETY | US NEWS › STATE OF GEORGIA FIRES PASTOR BECAUSE OF HIS FAITH; GOVERNMENT DIDN’T “APPROVE” BIBLICAL SERMONS STATE OF GEORGIA FIRES PASTOR BECAUSE OF HIS FAITH; GOVERNMENT DIDN’T “APPROVE” BIBLICAL SERMONS 0 SHARES [10/27/16] In the latest turn of events in the United States Government’s war against Christianity, a Pastor is now being required by a Federal court to turn over the transcripts and notes of all of the sermons he has ever conducted. A minister who was hired by the Georgia Department of Public Health was recently fired because of his faith, and sermon contents. Dr. Eric Walsh, a Seventh-day Adventist lay minister, is suing the State of Georgia Department of Public Health for religious discrimination. \\nA very simple question should cross your mind as you read this report, should my pastor’s sermons be approved by the Government or God? \\nThe state of Georgia inquired that the pastor relinquish his sermons to the government, according to federal court docum...</td>\n",
       "      <td>FAKE</td>\n",
       "      <td>NaN</td>\n",
       "    </tr>\n",
       "    <tr>\n",
       "      <th>1716</th>\n",
       "      <td>3634</td>\n",
       "      <td>The Latest On Paris Attack: Manhunt Continues</td>\n",
       "      <td>Brothers Were On No-Fly List</td>\n",
       "      <td>The Latest On Paris Attack: Manhunt Continues; Brothers Were On No-Fly List\\n\\nFrench authorities are still on the hunt for two brothers suspected in an attack against the headquarters of a satirical magazine in Paris that left 12 people dead.\\n\\nThe two chief suspects, named as Said and Chérif Kouachi, 34 and 32, remain at large. Investigators believe Said Kouachi traveled to Yemen in 2011 to receive weapons training with Al-Qaeda in the Arabian Peninsula, NPR's Dina Temple-Raston reports, citing U.S. officials who've been briefed on the case.\\n\\nBoth of the brothers have been on the U.S. no-fly list for years, U.S. officials tell NPR.\\n\\nNPR's Eleanor Beardsley reports that the French capital is on its highest alert level, and 800 soldiers and riot police have been called on to guard the city. Schoolchildren, Eleanor said, are being kept inside for recess.\\n\\nTo add to the tension, there was a shooting on Paris' southern edge that killed a police officer and wounded a street swee...</td>\n",
       "      <td>REAL</td>\n",
       "      <td>NaN</td>\n",
       "    </tr>\n",
       "    <tr>\n",
       "      <th>1900</th>\n",
       "      <td>8470</td>\n",
       "      <td>The Amish In America Commit Their Vote To Donald Trump</td>\n",
       "      <td>Mathematically Guaranteeing Him A Presidential Victory - ABC News</td>\n",
       "      <td>18 SHARE The Amish in America have committed their vote to Donald Trump guaranteeing him the Presidency. (AP Photo / Dennis System) \\nCOLUMBUS, OH (AP) — History was made today in Columbus, Ohio when more than 3 million Amish poured into the city to see the American Amish Brotherhood (AAB), an organization which acts as an informal governing body for the Amish community, endorse Donald Trump for president. That number represents a significant portion of the total Amish population, which the United States Census Bureau says numbers more than 20 million men and women nationwide all pledging their vote to Trump for President. With the full force of the Amish community behind him, Donald Trump is now mathematically guaranteed to win the presidency in November. \\nThe organization typically meets once a year and the meetings usually consist of about 300 Amish leaders who meet to discuss the challenges, such as urban sprawl, that face the community. This year, however, the organization wa...</td>\n",
       "      <td>FAKE</td>\n",
       "      <td>NaN</td>\n",
       "    </tr>\n",
       "    <tr>\n",
       "      <th>1968</th>\n",
       "      <td>6404</td>\n",
       "      <td>#BREAKING: SECOND Assassination Attempt On Trump In NV</td>\n",
       "      <td>Suspect Detained (LIVE BLOG)</td>\n",
       "      <td>We Are Change \\nDonald Trump on Saturday was quickly ushered off the stage by Secret Service agents in the middle of a campaign speech in Nevada after an incident in the crowd near the front of the stage.\\nSecret Service rushes Trump off stage at Reno rally https://t.co/n82d9jXopX \\n— Chrissy (@omgitsmechrissy) November 6, 2016 \\nVideo shows that Trump was in the middle of his speech when the incident occurred. He was looking into the crowd, his hand over his eyes to block the glare from the stage lights, when Secret Service agents grabbed him and escorted him off the stage. Trump ducked his head as he left the stage. The crowd panicked with frightened looks on their faces, as the Secret Service and police tactical units rushed in to quickly arrest the man. Video on twitter shows the moment that the Secret Service and law enforcement took down the man. Got footage of man who was detained by police and Secret Service after @realDonaldTrump was rushed off stage by USSS agents pic.twi...</td>\n",
       "      <td>FAKE</td>\n",
       "      <td>NaN</td>\n",
       "    </tr>\n",
       "    <tr>\n",
       "      <th>2176</th>\n",
       "      <td>10499</td>\n",
       "      <td>30th Infantry Division: “Work Horse of the Western Front” ~ 1951 US Army</td>\n",
       "      <td>The Big Picture TV-211</td>\n",
       "      <td>Published on Oct 27, 2016 by Jeff Quitney The Big Picture TV Series playlist: https://www.youtube.com/playlist?list… \\nmore at http://quickfound.net \\n‘The 30th Infantry Division –“Old Hickory” as this combat infantry division was affectionately called by military people both in and out of it. This National Guard Division is shown in North Carolina and Tennessee, and in combat. It rightfully earned its name as “the Work Horse of the Western Front.” Colonel Quinn appears and explains the clothing, equipment and food available to the combat infantryman.’ \\n“The Big Picture” episode TV-211 \\nPublic domain film from the US National Archives, slightly cropped to remove uneven edges, with the aspect ratio corrected, and one-pass brightness-contrast-color correction &amp; mild video noise reduction applied. The soundtrack was also processed with volume normalization, noise reduction, clipping reduction, and/or equalization (the resulting sound, though not perfect, is far less noisy than the o...</td>\n",
       "      <td>FAKE</td>\n",
       "      <td>NaN</td>\n",
       "    </tr>\n",
       "    <tr>\n",
       "      <th>2184</th>\n",
       "      <td>9</td>\n",
       "      <td>Planned Parenthood’s lobbying effort</td>\n",
       "      <td>pay raises for federal workers</td>\n",
       "      <td>and the future Fed rates</td>\n",
       "      <td>PLANNED PARENTHOOD’S LOBBYING GETS AGGRESSIVE. Congress may have spent August away from Washington but Planned Parenthood’s campaign to convince lawmakers to protect the group’s funding followed them back to their home states. Power Post has more.\\n\\n“Lawmakers will raise the stakes when Congress returns next week by threatening to defund the group through the federal appropriations process. Planned Parenthood’s counter-offensive is widespread and varied and is unfolding inside and outside the Beltway. The group has been organizing rallies, flooding lawmakers’ town hall meetings, commissioning polls, shelling out six figures for television ads and hiring forensics experts to try to discredit undercover video footage that sparked the controversy. The success of these lobbying efforts will be tested when Congress returns and must move a short-term spending bill to keep the government open. Some conservatives in both chambers are pushing to defund Planned Parenthood, even if a standof...</td>\n",
       "      <td>REAL</td>\n",
       "    </tr>\n",
       "    <tr>\n",
       "      <th>2493</th>\n",
       "      <td>10492</td>\n",
       "      <td>TOP BRITISH GENERAL WARNS OF NUCLEAR WAR WITH RUSSIA</td>\n",
       "      <td>“THE END OF LIFE AS WE KNOW IT”</td>\n",
       "      <td>Paul Joseph Watson Senior British army officer and former deputy supreme allied commander Europe Gen. Sir Richard Shirreff warns that NATO faces “nuclear war with Russia in Europe,” and that America is already technically at war with Russia. In a hawkish article for CNN , Shirreff asserts that the west faces the biggest threat from Russia since the Cold War and that Vladmir Putin plans to “re-establish Russia’s status as one of the world’s great powers” by marching into the Baltic states of Latvia, Lithuania and Estonia. Comparing the west’s policy towards Putin to the appeasement of Hitler, Shirreff claims that Moscow, “may have already lit the fuse that could lead to the unthinkable: nuclear war with Russia in Europe.” Under Article 5 of the Washington Treaty, an attack on one NATO member country represents an attack on all member countries, meaning the United States would be at war with Russia if Russian troops set foot in Baltic countries. “A Russian attack on the Baltic states...</td>\n",
       "      <td>FAKE</td>\n",
       "      <td>NaN</td>\n",
       "    </tr>\n",
       "    <tr>\n",
       "      <th>2549</th>\n",
       "      <td>10138</td>\n",
       "      <td>Inside The Mind Of An FBI Informant</td>\n",
       "      <td>Terri Linnell Admits Role As Gov’t Snitch</td>\n",
       "      <td>Inside The Mind Of An FBI Informant; Terri Linnell Admits Role As Gov’t Snitch by IWB · October 27, 2016 Tweet \\nFBI informant Terri “Momma Bear” Linnell tells why she became an informant, and what she told the FBI during the Bundy occupation of the Malheur National Wildlife Refuge in Burns Oregon earlier this year, in her first-ever interview. The occupation of the refuge ended with the death of rancher Robert “LaVoy” Finicum and the arrests of dozens of other protestors. \\nOnly much of what she said was a lie and interviewer Bobby Powell, Publisher of The Truth Is Viral news program, knew it. Eye-witness testimony from three separate individuals dispute Linnell’s account of events during the raid of a campground in Maryland during Operation American Spring by more than 40 agents from the Department of Homeland Security, the FBI, Maryland State Police, and the Secret Service. \\nThe witnesses all say Linnell was escorted away from the campground by the Secret Service while her frie...</td>\n",
       "      <td>FAKE</td>\n",
       "      <td>NaN</td>\n",
       "    </tr>\n",
       "    <tr>\n",
       "      <th>2880</th>\n",
       "      <td>4953</td>\n",
       "      <td>Gary Johnson Avoids Typical Third-Party Fade</td>\n",
       "      <td>Best Polling Since Perot in ‘92</td>\n",
       "      <td>A couple of weeks ago in this space I pushed back against assertions by FiveThirtyEight number-cruncher Harry Enten that Gary Johnson's polls have been \"trending downwards,\" indicating that \"voters may be moving away from third-party options.\" Well, today Enten is back with an interesting piece headlined \"Gary Johnson Isn't Fading.\"\\n\\nWhile noting what we have been warning you about here for years—third-party candidates typically see their crest of polling support halved by Election Day, according to Gallup—Enten explains that Johnson's numbers have so far not followed this pattern. In fact, the Libertarian may have already weathered the most difficult part of the calendar: \"Most third-party candidates didn't lose that much support between late summer and Election Day,\" Enten writes. \"Besides John Anderson in 1980, no candidate ended up finishing more than 3 percentage points below where they were polling in late August. The average drop-off is about 2 percentage points.\"\\n\\nSo ho...</td>\n",
       "      <td>REAL</td>\n",
       "      <td>NaN</td>\n",
       "    </tr>\n",
       "    <tr>\n",
       "      <th>2920</th>\n",
       "      <td>496</td>\n",
       "      <td>Nearly 300K New Jobs In February</td>\n",
       "      <td>Unemployment Dips To 5.5 Percent</td>\n",
       "      <td>Nearly 300K New Jobs In February; Unemployment Dips To 5.5 Percent\\n\\nThe U.S. economy added 295,000 jobs last month, according to the Labor Department's monthly survey, and the unemployment rate dropped to 5.5 percent. The latest strong data beat expectations and follow a robust jump the previous month — a sign that the nation's economy is finally picking up steam.\\n\\nEconomists had predicted the economy would add 240,000 jobs in February and that the unemployment rate would notch back down to 5.6 percent, where it stood for December. The slight increase in the rate last month was attributed to strong growth in the labor force.\\n\\nThe average workweek for nonfarm payrolls was 34.6 hours, a figure that has held steady for five months. The average hourly wage rose 3 cents, to $24.78.\\n\\nAs NPR's John Ydstie reported this morning ahead of this morning's release by the department's Bureau of Labor Statistics, the report for January \"was stellar on almost every count. It revealed a mon...</td>\n",
       "      <td>REAL</td>\n",
       "      <td>NaN</td>\n",
       "    </tr>\n",
       "    <tr>\n",
       "      <th>3010</th>\n",
       "      <td>5741</td>\n",
       "      <td>Why Trump Won</td>\n",
       "      <td>Why Clinton Lost</td>\n",
       "      <td>WashingtonsBlog \\nBy Robert Parry, the investigative reporter who many of the Iran-Contra stories for The Associated Press and Newsweek in the 1980s. Originally published at Parry’s Consortium News (republished with permission). \\nIn the end, Hillary Clinton became the face of a corrupt, arrogant and out-of-touch Establishment, while Donald Trump emerged as an almost perfectly imperfect vessel for a populist fury that had bubbled beneath the surface of America. \\nThere is clearly much to fear from a Trump presidency, especially coupled with continued Republican control of Congress. Trump and many Republicans have denied the reality of climate change; they favor more tax cuts for the rich; they want to deregulate Wall Street and other powerful industries – all policies that helped create the current mess that the United States and much of the world are now in. A sign supporting Donald Trump at a rally at Veterans Memorial Coliseum at the Arizona State Fairgrounds in Phoenix, Arizo...</td>\n",
       "      <td>FAKE</td>\n",
       "      <td>NaN</td>\n",
       "    </tr>\n",
       "    <tr>\n",
       "      <th>3069</th>\n",
       "      <td>4131</td>\n",
       "      <td>Jesse Matthew charged in Hannah Graham's murder</td>\n",
       "      <td>DA will not pursue death penalty</td>\n",
       "      <td>Jesse Matthew Jr., a former hospital worker, was indicted Monday on a count of first-degree murder in the abduction and killing of Hannah Graham, a University of Virginia student, who was missing for weeks before her body was discovered, law enforcement officials said Tuesday.\\n\\nAlbemarle County prosecutor Denise Lunsford said that the state will not seek the death penalty, and that Graham's family has been informed about the state's decision.\\n\\nLunsford declined to say why Matthew was not charged with the higher count of capital murder. The abduction and first-degree murder charges are punishable by up to life in prison. Matthew, 33, was already charged with abduction with intent to defile the 18-year-old.\\n\\nPolice have said forensic evidence also links Matthew to the 2009 disappearance and death of 20-year-old Virginia Tech student Morgan Harrington, whose body also was found in the county. Lunsford said \"there are no pending charges\" against Matthew in the Harrington case.\\n\\...</td>\n",
       "      <td>REAL</td>\n",
       "      <td>NaN</td>\n",
       "    </tr>\n",
       "    <tr>\n",
       "      <th>3110</th>\n",
       "      <td>8748</td>\n",
       "      <td>WATCH: Mass Shooting Occurs During #TrumpRiot</td>\n",
       "      <td>Media Ignores (Video)</td>\n",
       "      <td>WATCH: Mass Shooting Occurs During #TrumpRiot; Media Ignores (Video) WATCH: Mass Shooting Occurs During #TrumpRiot; Media Ignores (Video)  45 pm by Guest Author   Renee Nal | New Zeal Seattle’s Socialist Alternative organize anti-Trump rally. Note the manufactured signs and the hammer &amp; sickle logo. \\n“The five victims range in age from their 20s to 50s, and they have gunshot wounds to their legs, chest and neck.”– The Seattle Times , November 10, 2016 \\nSeattle police are assuring citizens that a virtually unreported mass shooting has nothing to do with an anti-Trump rally incited by Seattle socialists, featuring Kshama Sawant, the Marxist Seattle city council member who is significant as being the only socialist to run openly as a member of Socialist Alternative , a Trotskyist organization. \\nThe shooting occurred “outside the 7-Eleven store on Third Avenue between Pike and Pine streets,” close to where protesters gathered, carrying their “Socialist Alternative” signs after bei...</td>\n",
       "      <td>FAKE</td>\n",
       "      <td>NaN</td>\n",
       "    </tr>\n",
       "    <tr>\n",
       "      <th>3130</th>\n",
       "      <td>6717</td>\n",
       "      <td>Jim Rogers: It’s Time To Prepare</td>\n",
       "      <td>Economic And Financial Collapse Imminent (VIDEO)</td>\n",
       "      <td>By: The Voice of Reason | Regardless of how much information gets released through Wikileaks or Project Veritas revealing grossly immoral, or even criminal conduct between members of the Clinton campaign, neither the mainstream media nor our woefully corrupt Department of Injustice have done anything to even slow the Clinton Crime Syndicate’s march toward the oval office. With each passing day that brings us closer to the election, lies continue to be pumped out with impunity to the voting public at large by the very institutions the public should be able to trust to give them fair and honest reporting or education on important matters. In the following interview, legendary investor Jim Rogers, explains in detail why nothing being reported about the economy is true, and why financial and economic collapse is imminent. Who is Jim Rogers? Why should you care what he says? First of all, listen to him because he’s right. Start learning facts, and stop listening to mainstream media prop...</td>\n",
       "      <td>FAKE</td>\n",
       "      <td>NaN</td>\n",
       "    </tr>\n",
       "    <tr>\n",
       "      <th>3210</th>\n",
       "      <td>2943</td>\n",
       "      <td>Islamic State admits defeat in Kobani</td>\n",
       "      <td>blames airstrikes</td>\n",
       "      <td>Islamic State militants have acknowledged for the first time that they have been defeated in the Syrian town of Kobani, blaming withering airstrikes by a U.S.-led coalition for forcing them to flee the town on the Turkish border.\\n\\nAlthough not a strategic site itself, Kobani — known by the militants as Ayn al-Islam — had turned into a test of wills between the militants and the coalition. At one point, Islamic State fighters controlled almost all of the town of 45,000 people and were on the verge of capturing it outright.\\n\\nIn a video released late Friday by the pro-Islamic State Aamaq News Agency, two fighters made it clear that the coalition's relentless air assault proved too much for the militants.\\n\\n\"A while ago, we retreated a bit from Ayn al-Islam because of the bombardment and the killing of some brothers,\" said one masked fighter who spoke Arabic with a North African accent.\\n\\nIn the video, he vowed to return to drive out the People's Protection Units known as the YPG...</td>\n",
       "      <td>REAL</td>\n",
       "      <td>NaN</td>\n",
       "    </tr>\n",
       "    <tr>\n",
       "      <th>3372</th>\n",
       "      <td>5248</td>\n",
       "      <td>Clinton Cries Racism Tagging Trump with KKK</td>\n",
       "      <td>Trump Says 'She Lies'</td>\n",
       "      <td>With only about 70 days left until the election, presidential campaign politics have hit a new low. Democratic candidate Hillary Clinton has released a new attack ad claiming Republican rival Donald Trump is a candidate of racists.\\n\\nThe new ad released by Clinton attempts to depict Trump as a racist, a candidate supported by white supremacists and the Ku Klux Klan.\\n\\nIn the campaign commercial, a KKK member is heard saying, \"The reason a lot of Klan members like Donald Trump is because a lot of what he believes we believe in.\"\\n\\nClinton said Trump and Republicans are reinforcing harmful stereotypes, calling it a disturbing preview of the kind of president Trump would be.\\n\\n\"He is taking hate groups mainstream and helping a radical fringe take over the Republican Party,\" she said.\\n\\nTrump said the allegations are the oldest ploy in the Democratic playbook.\\n\\n\"When Democratic policies fail, they are left with only this one, tired argument: 'you're racist, you're racist, you're...</td>\n",
       "      <td>REAL</td>\n",
       "      <td>NaN</td>\n",
       "    </tr>\n",
       "    <tr>\n",
       "      <th>3478</th>\n",
       "      <td>3624</td>\n",
       "      <td>Suspects In Paris Magazine Attack Killed</td>\n",
       "      <td>Market Gunman And 4 Hostages Also Dead</td>\n",
       "      <td>Suspects In Paris Magazine Attack Killed; Market Gunman And 4 Hostages Also Dead\\n\\nA nationwide manhunt for the suspects of France's deadliest terrorist attack in more than 50 years ended in a hail of gunfire on Friday.\\n\\nAfter hours of tension in two separate standoffs that shut down parts of the Paris metro area, the two main suspects in the attack on a satirical magazine and a man who took hostages at a kosher grocery are dead, President François Hollande said in a speech to the nation.\\n\\nHollande also said four hostages had been killed today; he called the week's events \"a tragedy for the nation, an obligation for us to confront terrorists.\"\\n\\n\"We are a free nation that does not give in,\" the French president said. \"We carry an ideal that is greater than us.\"\\n\\nThe standoffs started this morning, when police cornered Said and Chérif Kouachi, who were suspected of killing 12 people in the Charlie Hebdo attack, at a print shop in the small town of Dammartin-en-Goele.\\n\\nWhil...</td>\n",
       "      <td>REAL</td>\n",
       "      <td>NaN</td>\n",
       "    </tr>\n",
       "    <tr>\n",
       "      <th>3537</th>\n",
       "      <td>6268</td>\n",
       "      <td>Chart Of The Day: Since 2009—–Recovery For The 5%</td>\n",
       "      <td>Stagnation for the 95%</td>\n",
       "      <td>Chart Of The Day: Since 2009 Recovery For The 5%</td>\n",
       "      <td>Stagnation for the 95%</td>\n",
       "      <td>FAKE</td>\n",
       "    </tr>\n",
       "    <tr>\n",
       "      <th>3578</th>\n",
       "      <td>2738</td>\n",
       "      <td>Ted Cruz launches bid</td>\n",
       "      <td>Some pundits paint him as scary extremist</td>\n",
       "      <td>Before he got to repealing ObamaCare, before he got to dumping Common Core, before he got to abolishing the IRS, Ted Cruz talked about Jesus.\\n\\nIn kicking off his presidential campaign Monday at Liberty University, Cruz began with his father, a Cuban immigrant who washed dishes in Texas for 50 cents an hour, who drank too much along with his wife, who left home when Ted was 3 but came back because “God transformed his heart … Were it not for the transformative love of Jesus Christ, I would have been raised by a single mom.”\\n\\nThat introduction, part of a passionate speech delivered without notes in Lynchburg, Va., helps explain why many in the mainstream media don’t quite know what to make of the Texas senator — or view him as a fringe figure.\\n\\nOn the “Today” show, Kelly O’Donnell said “he’s 44, only been on the national scene a couple of years.” MSNBC’s Jonathan Alter, while not counting him out, also said “he’s only been in the Senate for two years.”\\n\\nPerhaps they had forgo...</td>\n",
       "      <td>REAL</td>\n",
       "      <td>NaN</td>\n",
       "    </tr>\n",
       "    <tr>\n",
       "      <th>3649</th>\n",
       "      <td>4025</td>\n",
       "      <td>State Dept. IDs 2 Americans killed in Nepal quake</td>\n",
       "      <td>2 others reportedly dead</td>\n",
       "      <td>The State Department identified two Americans who died in Nepal’s devastating earthquake, and reported two more dead Monday, as the death toll rose past 4,000 and survivors dug through the rubble of their villages seeking shelter and food.\\n\\nSaturday's 7.8 magnitude earthquake triggered an avalanche that buried part of the Mount Everest base camp, killing 18 people, including foreign climbers preparing to make their summit attempts at the world’s tallest peak.\\n\\nAt least four Americans died in the quake, all at the Mount Everest base camp the State Department said Monday. State Department spokesman Jeff Rathke identified two of the American victims as Ely Taplin and Vinh B. Truong.\\n\\nTwo others haven't been named yet, either because consular officials haven't confirmed their identities or next of kin haven't been notified.\\n\\n“We express our deepest sympathies to the families and loved ones of those who died,” Rathke told reporters. He said the State Department was fielding hund...</td>\n",
       "      <td>REAL</td>\n",
       "      <td>NaN</td>\n",
       "    </tr>\n",
       "    <tr>\n",
       "      <th>3706</th>\n",
       "      <td>9954</td>\n",
       "      <td>Incredible smoke haze seen outside NDTV office after Arnab quits</td>\n",
       "      <td>bursting of firecrackers suspected</td>\n",
       "      <td>Incredible smoke haze seen outside NDTV office after Arnab quits; bursting of firecrackers suspected Posted on Tweet (Image via shutterstock.com) \\nAn incredible smoke haze was spotted seen outside the NDTV office on Tuesday. Onlookers claimed that the reason was and uninhibited bursting of firecrackers by people in the building. \\nOne onlooker claimed he also heard loud firecrackers-like noise near the NDTV office area followed by fumes curling up to form a V-sign. \\nExperts say it will be difficult to ascertain the source of the emission. A leading pollution expert opined, “These days such peculiar fumes can be due to firecrackers during the Diwali season or because of pure human emotions giving rise to intense celebrations, revelry, etc.” \\nThis incident, according to the onlooker, happened on Tuesday evening, minutes after the news of journalist Arnab Goswami quitting Times Now surfaced. \\nThe UnReal Times could not verify whether the two events were correlated as the onlooker ...</td>\n",
       "      <td>FAKE</td>\n",
       "      <td>NaN</td>\n",
       "    </tr>\n",
       "  </tbody>\n",
       "</table>\n",
       "</div>"
      ],
      "text/plain": [
       "         ID  \\\n",
       "192     599   \n",
       "308   10194   \n",
       "382     356   \n",
       "660    2786   \n",
       "889    3622   \n",
       "911    7375   \n",
       "1010   9097   \n",
       "1043   9203   \n",
       "1218   1602   \n",
       "1438   4562   \n",
       "1493   4748   \n",
       "1591   3508   \n",
       "1630   7559   \n",
       "1716   3634   \n",
       "1900   8470   \n",
       "1968   6404   \n",
       "2176  10499   \n",
       "2184      9   \n",
       "2493  10492   \n",
       "2549  10138   \n",
       "2880   4953   \n",
       "2920    496   \n",
       "3010   5741   \n",
       "3069   4131   \n",
       "3110   8748   \n",
       "3130   6717   \n",
       "3210   2943   \n",
       "3372   5248   \n",
       "3478   3624   \n",
       "3537   6268   \n",
       "3578   2738   \n",
       "3649   4025   \n",
       "3706   9954   \n",
       "\n",
       "                                                                         title  \\\n",
       "192                                         Election Day: No Legal Pot In Ohio   \n",
       "308                Who rode it best? Jesse Jackson mounts up to fight pipeline   \n",
       "382                                             Black Hawk crashes off Florida   \n",
       "660                             Afghanistan: 19 die in air attacks on hospital   \n",
       "889                     Al Qaeda rep says group directed Paris magazine attack   \n",
       "911                     Shallow 5.4 magnitude earthquake rattles central Italy   \n",
       "1010                                          ICE Agent Commits Suicide in NYC   \n",
       "1043                               Political Correctness for Yuengling Brewery   \n",
       "1218                 Poll gives Biden edge over Clinton against GOP candidates   \n",
       "1438                                         Russia begins airstrikes in Syria   \n",
       "1493                                                                Trump &amp   \n",
       "1591                                                Belgian police mount raids   \n",
       "1630                        STATE OF GEORGIA FIRES PASTOR BECAUSE OF HIS FAITH   \n",
       "1716                             The Latest On Paris Attack: Manhunt Continues   \n",
       "1900                    The Amish In America Commit Their Vote To Donald Trump   \n",
       "1968                    #BREAKING: SECOND Assassination Attempt On Trump In NV   \n",
       "2176  30th Infantry Division: “Work Horse of the Western Front” ~ 1951 US Army   \n",
       "2184                                      Planned Parenthood’s lobbying effort   \n",
       "2493                      TOP BRITISH GENERAL WARNS OF NUCLEAR WAR WITH RUSSIA   \n",
       "2549                                       Inside The Mind Of An FBI Informant   \n",
       "2880                              Gary Johnson Avoids Typical Third-Party Fade   \n",
       "2920                                          Nearly 300K New Jobs In February   \n",
       "3010                                                             Why Trump Won   \n",
       "3069                           Jesse Matthew charged in Hannah Graham's murder   \n",
       "3110                             WATCH: Mass Shooting Occurs During #TrumpRiot   \n",
       "3130                                          Jim Rogers: It’s Time To Prepare   \n",
       "3210                                     Islamic State admits defeat in Kobani   \n",
       "3372                               Clinton Cries Racism Tagging Trump with KKK   \n",
       "3478                                  Suspects In Paris Magazine Attack Killed   \n",
       "3537                         Chart Of The Day: Since 2009—–Recovery For The 5%   \n",
       "3578                                                     Ted Cruz launches bid   \n",
       "3649                         State Dept. IDs 2 Americans killed in Nepal quake   \n",
       "3706          Incredible smoke haze seen outside NDTV office after Arnab quits   \n",
       "\n",
       "                                                                                                                            text  \\\n",
       "192                                                                                                  Democrats Lose In The South   \n",
       "308                                                                                             Leonardo DiCaprio to the rescue?   \n",
       "382                                                                                                          human remains found   \n",
       "660                                                                                                           U.S. investigating   \n",
       "889                                                                                                     US issues travel warning   \n",
       "911                                                                                                     shakes buildings in Rome   \n",
       "1010   Leaves Note Revealing Gov’t Plans to Round-up & DISARM Americans During Economic & Bank Collapse | EndingFed News Network   \n",
       "1043                                                                                             What About Our Opioid Epidemic?   \n",
       "1218                                                                                                        VP meets with Trumka   \n",
       "1438                                                                                      U.S. warns of new concerns in conflict   \n",
       "1493                                                                Clinton Were Very Convincing...on How Lousy the Other One Is   \n",
       "1591                                                                                prosecutors acknowledge missed opportunities   \n",
       "1630                                                                                GOVERNMENT DIDN’T “APPROVE” BIBLICAL SERMONS   \n",
       "1716                                                                                                Brothers Were On No-Fly List   \n",
       "1900                                                           Mathematically Guaranteeing Him A Presidential Victory - ABC News   \n",
       "1968                                                                                                Suspect Detained (LIVE BLOG)   \n",
       "2176                                                                                                      The Big Picture TV-211   \n",
       "2184                                                                                              pay raises for federal workers   \n",
       "2493                                                                                             “THE END OF LIFE AS WE KNOW IT”   \n",
       "2549                                                                                   Terri Linnell Admits Role As Gov’t Snitch   \n",
       "2880                                                                                             Best Polling Since Perot in ‘92   \n",
       "2920                                                                                            Unemployment Dips To 5.5 Percent   \n",
       "3010                                                                                                            Why Clinton Lost   \n",
       "3069                                                                                            DA will not pursue death penalty   \n",
       "3110                                                                                                       Media Ignores (Video)   \n",
       "3130                                                                            Economic And Financial Collapse Imminent (VIDEO)   \n",
       "3210                                                                                                           blames airstrikes   \n",
       "3372                                                                                                       Trump Says 'She Lies'   \n",
       "3478                                                                                      Market Gunman And 4 Hostages Also Dead   \n",
       "3537                                                                                                      Stagnation for the 95%   \n",
       "3578                                                                                   Some pundits paint him as scary extremist   \n",
       "3649                                                                                                    2 others reportedly dead   \n",
       "3706                                                                                          bursting of firecrackers suspected   \n",
       "\n",
       "                                                                                                                                                                                                                                                                                                                                                                                                                                                                                                                                                                                                                                                                                                                                                                                                                                                                                                                                                                                                                                        label  \\\n",
       "192   Election Day: No Legal Pot In Ohio; Democrats Lose In The South\\n\\nTuesday is \"off year\" Election Day in parts of the country. Legalizing marijuana is on the ballot in Ohio, Houston voters will decide on an equal rights ordinance and San Francisco weighs short-term rentals in what's being called the \"Airbnb Initiative.\"\\n\\nElsewhere, eyes are on governor races in Kentucky and Louisiana, and whether Democrats can make any progress in the South.\\n\\nHere's a look at some of the races:\\n\\nHouston voters will decide whether to keep an equal rights ordinance that was approved by the City Council last year. The Houston Equal Rights Ordinance (HERO) would ban discrimination based on sexual orientation and gender identity — criteria not covered by national anti-discrimination laws. The ordinance is hotly debated, particularly after some opposition ads were released. The ads claim that the ordinance would allow men who identify as women to assault women and young girls in bathrooms.\\n\\nHilla...   \n",
       "308   Who rode it best? Jesse Jackson mounts up to fight pipeline; Leonardo DiCaprio to the rescue? Posted at 6:41 pm on October 26, 2016 by Brett T. Share on Facebook Share on Twitter \\nVladimir Putin might have popularized the shirtless-on-horseback calendar pose that was echoed recently by Alex Jones , but Jesse Jackson deserves credit for at least one thing: he chose to keep his shirt on Wednesday when he rode up to the front lines of a protest against the Dakota Access Pipeline. \\n— Marisa Villarreal (@marisa_villarr) October 26, 2016 Proud to stand with the Sioux Indians today in North Dakota. #StandingWithStandingRock pic.twitter.com/0dPbDk6RJD \\n— Rev Jesse Jackson Sr (@RevJJackson) October 26, 2016 Jesse Jackson on the frontline with that native bling #NoDAPL pic.twitter.com/QevCYFugN3 \\n— Ruth Hopkins (@RuthHHopkins) October 26, 2016 \\nSeen standing with Jackson (literally; check over his shoulder above) was “Avengers” actor Mark Ruffalo, who offered his own exclusive scoop of ...   \n",
       "382   (CNN) Thick fog forced authorities to suspend the air search Wednesday for seven Marines and four Army aircrew, feared dead after their Black Hawk helicopter crashed into waters off the Florida Panhandle.\\n\\nThe helicopter was first reported missing at about 8:30 p.m. (9:30 p.m. ET) Tuesday. Hours later, searchers found debris around Okaloosa Island near Eglin Air Force Base, base spokesman Andy Bourland said.\\n\\nThis debris washed up on both the north and south sides of Santa Rosa Sound, which connects mainland northern Florida and a barrier island.\\n\\nThe air search is expected to resume midday Thursday, the spokesman said. A spokeswoman for the Coast Guard said that boats will continue scouring the waters throughout the night Wednesday, weather permitting.\\n\\nHuman remains have washed ashore in the area near Eglin.\\n\\nBase spokeswoman Jasmine Porterfield didn't specify what was found, noting the search-and-rescue mission remained underway. Still, there was little hope for a mira...   \n",
       "660   (CNN) Aerial bombardments blew apart a Doctors Without Borders hospital in the battleground Afghan city of Kunduz about the time of a U.S. airstrike early Saturday, killing at least 19 people, officials said.\\n\\nThe blasts left part of the hospital in flames and rubble, killing 12 staffers and seven patients -- including three children -- and injuring 37 other people, the charity said.\\n\\nAs the United States said it was investigating what struck the hospital during the night, the charity expressed shock and demanded answers, stressing that all combatants had been told long ago where the hospital was.\\n\\n\"(The bombing) constitutes a grave violation of international humanitarian law,\" Doctors Without Borders, known internationally as Medecins Sans Frontieres, or MSF, said.\\n\\n\"We were running a hospital treating patients, including wounded combatants from both sides -- this was not a 'Taliban base,' \" said Dr. Joanne Liu, international president of Doctors Without Borders or Médecin...   \n",
       "889   A member of Al Qaeda's branch in Yemen said Friday that the group directed the massacre earlier this week at a Paris magazine, as the U.S. State Department issued a travel warning to citizens, saying they faced an increased risk of reprisals.\\n\\nEarlier Friday, near simultaneous raids by French police killed the two Islamist brothers behind the attack and another terrorist. The raids, conducted at locations 25 miles apart, took out Cherif and Said Kouachi and a suspect in a policewoman's killing who had seized hostages at a Paris grocery on the brothers' behalf, but also left four hostages dead, according to authorities and reports from the scene.\\n\\nThe Al Qaeda member on Friday provided a statement in English to The Associated Press saying \"the leadership of AQAP directed the operations and they have chosen their target carefully.\"\\n\\nThere was no independent confirmation of the report, and U.S. intelligence and counterterrorism officials say it is too early to conclude who is re...   \n",
       "911    00 UTC © USGS Map of the earthquake's epicenter An earthquake with a preliminary magnitude of 5.4 rattled a broad swath of central Italy, including Rome, on Wednesday (Thursday NZT), just two months after a powerful temblor toppled villages, killing nearly 300 people. There were no immediate reports of damage. Italy's National Vulcanology Center said the epicenter was near Macerata, near Perugia. The US Geological Survey said it had a depth of some 10 kilometres, which is relatively shallow. The quake was felt across a broad swath of central and southern Italy, shaking centuries-old palazzi in Rome's historic centre. The Aug. 24 quake destroyed hilltop village of Amatrice and other nearby towns. Wednesday's quake was felt from Perugia in Umbria to the capital Rome to the central Italy town of Aquila, which was struck by a deadly quake in 2009. The mayor of Aquila, however, said there was no immediate report of damage. ​The quake struck at 7.10pm on Wednesday (local time). \"The ear...   \n",
       "1010  Email Print After writing a lengthy suicide note exposing terrifying plans the government has for American citizens, a US Customs Agent walked onto a pier in NYC and blew his brains out. Sources inside the New York City Police Department have revealed to SuperStation95, the contents of a suicide note found on the body and they are utterly frightening. The note, which says it was written over the course of a full week in advance, outlines why the officer chose to shoot himself: “The America I grew up in, and cherished, has been murdered by its own federal government. Our Constitution has become meaningless and our laws politicized so badly, they are no longer enforced except for political purposes” the note said. “Our elected officials are, to a person, utterly corrupt and completely devoid of any love or respect for the country which pays them. To them, everything is about getting and keeping power, and making illicit money from backroom deals.” The 42-year-old U.S. Immigration and...   \n",
       "1043  We Are Change \\n\\nIn today’s political climate even our beer is up for debate. And why shouldn’t it be? This is America. We debate things here. That’s how democracy works. (At least when the issues aren’t taboo.) Recently, it’s shown up in the state of Pennsylvania with Eric Trump, Donald Trump’s son, garnering an endorsement for the Republican candidate from Yuengling, America’s oldest brewery.\\nAnd now the debate turns to political action.\\nWith the most recent statement from Richard “Dick” Yuengling Jr., the 73-year-old owner of D. G. Yuengling & Son’s, located in Pottsville, Pennsylvania — the seat of Schuylkill County — Yuengling said that his company was “behind” Trump. Inevitably, a lashing out occurred in the digital realm with regard to political correctness and expressively personal views. Customers weren’t pleased. They were offended. In fact, some even claimed that they’d never drink Yuengling again.\\nThis is what democracy is, and should be. Sure. And yet, something is...   \n",
       "1218  A new national poll shows Vice President Biden faring better than Hillary Clinton in match-ups against top Republican presidential candidates, as the VP weighs jumping into the race -- and meets Thursday with a top labor leader.\\n\\nFox News has learned that Biden is meeting later in the day with AFL-CIO President Richard Trumka. This comes after he met last weekend with liberal icon, Massachusetts Sen. Elizabeth Warren.\\n\\nHe's making the rounds amid a flurry of polls showing Clinton potentially vulnerable. The latest Quinnipiac University National Poll shows Clinton polling better than Biden – who is not a declared candidate – in the Democratic primary race. But the poll gives Biden the slight edge when squared against leading GOP contenders.\\n\\n\"Note to Biden: They like you, they really like you, or they like you more than the others,” Tim Malloy, assistant director of the Quinnipiac University Poll, said in a statement.\\n\\nThe poll shows Biden leading Republican front-runner Don...   \n",
       "1438  Russian warplanes began airstrikes in Syria on Wednesday, adding an unpredictable new element to a four-year-old war that has already drawn in the United States and allies, fueled a refu­gee crisis and expanded the reach of the Islamic State.\\n\\nIn Washington, the dramatic escalation of Russia’s military involvement was viewed as an affront just two days after President Obama and Russian President Vladi­mir Putin sat down to discuss means for negotiating the deep differences in their countries’ approaches to the conflict in Syria.\\n\\nThe strikes sharply increase tensions with Russia as U.S. officials dispute Moscow’s claim that its aircraft targeted the Islamic State, the brutal extremist group that controls much of Syria and Iraq. Instead, U.S. officials said the strikes appeared to target opponents of Syria’s embattled President Bashar al-Assad, a key Russian ally. Those hit include U.S.-backed units that were trained and armed by the CIA, officials said.\\n\\nAccusing Russia of “p...   \n",
       "1493                                                                                                                                                                                                                                                                                                                                                                                                                                                                Let's pretend for a moment that the biggest headlines out of Sunday night's presidential debate had nothing to do with sexual assault allegations, or non-handshakes, or threats to jail political opponents—but instead were about policy. In that bizarre alternative universe, what could we actually learn?\\n\\nThat the two exhausted political parties have nothing much left to offer except critiques about how lousy the other one is.\\n\\nHosted by Matt Welch; camera and editing by Jim Epstein.\\n\\nLike us on Facebook.\\n\\nSubscribe to our podcast at iTunes.   \n",
       "1591  Belgian authorities missed a chance to press a key terrorism suspect for intelligence in the days ahead of the suicide bombings that struck the capital, prosecutors said Friday, acknowledging a significant security lapse that may have allowed his allies to attack unimpeded.\\n\\nEven as the men involved in Tuesday’s attacks were racing to strike, fearful that authorities were closing in on them, investigators did not ask the attackers’ jailed ally, Salah Abdeslam, about his knowledge of future plots, Belgian federal prosecutors said Friday.\\n\\nAbdeslam, believed to be the logistics chief of the Islamic State’s November attacks in Paris, was apprehended March 18, apparently spurring one of the Brussels attackers to write that he feared capture by the police. But after Abdeslam’s arrest, investigators concentrated solely on the Paris attacks. Abdeslam was questioned for two hours last Saturday, the day after he was captured in a raid at a Brussels safe house — and then no other discuss...   \n",
       "1630  Home › SOCIETY | US NEWS › STATE OF GEORGIA FIRES PASTOR BECAUSE OF HIS FAITH; GOVERNMENT DIDN’T “APPROVE” BIBLICAL SERMONS STATE OF GEORGIA FIRES PASTOR BECAUSE OF HIS FAITH; GOVERNMENT DIDN’T “APPROVE” BIBLICAL SERMONS 0 SHARES [10/27/16] In the latest turn of events in the United States Government’s war against Christianity, a Pastor is now being required by a Federal court to turn over the transcripts and notes of all of the sermons he has ever conducted. A minister who was hired by the Georgia Department of Public Health was recently fired because of his faith, and sermon contents. Dr. Eric Walsh, a Seventh-day Adventist lay minister, is suing the State of Georgia Department of Public Health for religious discrimination. \\nA very simple question should cross your mind as you read this report, should my pastor’s sermons be approved by the Government or God? \\nThe state of Georgia inquired that the pastor relinquish his sermons to the government, according to federal court docum...   \n",
       "1716  The Latest On Paris Attack: Manhunt Continues; Brothers Were On No-Fly List\\n\\nFrench authorities are still on the hunt for two brothers suspected in an attack against the headquarters of a satirical magazine in Paris that left 12 people dead.\\n\\nThe two chief suspects, named as Said and Chérif Kouachi, 34 and 32, remain at large. Investigators believe Said Kouachi traveled to Yemen in 2011 to receive weapons training with Al-Qaeda in the Arabian Peninsula, NPR's Dina Temple-Raston reports, citing U.S. officials who've been briefed on the case.\\n\\nBoth of the brothers have been on the U.S. no-fly list for years, U.S. officials tell NPR.\\n\\nNPR's Eleanor Beardsley reports that the French capital is on its highest alert level, and 800 soldiers and riot police have been called on to guard the city. Schoolchildren, Eleanor said, are being kept inside for recess.\\n\\nTo add to the tension, there was a shooting on Paris' southern edge that killed a police officer and wounded a street swee...   \n",
       "1900  18 SHARE The Amish in America have committed their vote to Donald Trump guaranteeing him the Presidency. (AP Photo / Dennis System) \\nCOLUMBUS, OH (AP) — History was made today in Columbus, Ohio when more than 3 million Amish poured into the city to see the American Amish Brotherhood (AAB), an organization which acts as an informal governing body for the Amish community, endorse Donald Trump for president. That number represents a significant portion of the total Amish population, which the United States Census Bureau says numbers more than 20 million men and women nationwide all pledging their vote to Trump for President. With the full force of the Amish community behind him, Donald Trump is now mathematically guaranteed to win the presidency in November. \\nThe organization typically meets once a year and the meetings usually consist of about 300 Amish leaders who meet to discuss the challenges, such as urban sprawl, that face the community. This year, however, the organization wa...   \n",
       "1968  We Are Change \\nDonald Trump on Saturday was quickly ushered off the stage by Secret Service agents in the middle of a campaign speech in Nevada after an incident in the crowd near the front of the stage.\\nSecret Service rushes Trump off stage at Reno rally https://t.co/n82d9jXopX \\n— Chrissy (@omgitsmechrissy) November 6, 2016 \\nVideo shows that Trump was in the middle of his speech when the incident occurred. He was looking into the crowd, his hand over his eyes to block the glare from the stage lights, when Secret Service agents grabbed him and escorted him off the stage. Trump ducked his head as he left the stage. The crowd panicked with frightened looks on their faces, as the Secret Service and police tactical units rushed in to quickly arrest the man. Video on twitter shows the moment that the Secret Service and law enforcement took down the man. Got footage of man who was detained by police and Secret Service after @realDonaldTrump was rushed off stage by USSS agents pic.twi...   \n",
       "2176  Published on Oct 27, 2016 by Jeff Quitney The Big Picture TV Series playlist: https://www.youtube.com/playlist?list… \\nmore at http://quickfound.net \\n‘The 30th Infantry Division –“Old Hickory” as this combat infantry division was affectionately called by military people both in and out of it. This National Guard Division is shown in North Carolina and Tennessee, and in combat. It rightfully earned its name as “the Work Horse of the Western Front.” Colonel Quinn appears and explains the clothing, equipment and food available to the combat infantryman.’ \\n“The Big Picture” episode TV-211 \\nPublic domain film from the US National Archives, slightly cropped to remove uneven edges, with the aspect ratio corrected, and one-pass brightness-contrast-color correction & mild video noise reduction applied. The soundtrack was also processed with volume normalization, noise reduction, clipping reduction, and/or equalization (the resulting sound, though not perfect, is far less noisy than the o...   \n",
       "2184                                                                                                                                                                                                                                                                                                                                                                                                                                                                                                                                                                                                                                                                                                                                                                                                                                                                                                                                                                                                                 and the future Fed rates   \n",
       "2493  Paul Joseph Watson Senior British army officer and former deputy supreme allied commander Europe Gen. Sir Richard Shirreff warns that NATO faces “nuclear war with Russia in Europe,” and that America is already technically at war with Russia. In a hawkish article for CNN , Shirreff asserts that the west faces the biggest threat from Russia since the Cold War and that Vladmir Putin plans to “re-establish Russia’s status as one of the world’s great powers” by marching into the Baltic states of Latvia, Lithuania and Estonia. Comparing the west’s policy towards Putin to the appeasement of Hitler, Shirreff claims that Moscow, “may have already lit the fuse that could lead to the unthinkable: nuclear war with Russia in Europe.” Under Article 5 of the Washington Treaty, an attack on one NATO member country represents an attack on all member countries, meaning the United States would be at war with Russia if Russian troops set foot in Baltic countries. “A Russian attack on the Baltic states...   \n",
       "2549  Inside The Mind Of An FBI Informant; Terri Linnell Admits Role As Gov’t Snitch by IWB · October 27, 2016 Tweet \\nFBI informant Terri “Momma Bear” Linnell tells why she became an informant, and what she told the FBI during the Bundy occupation of the Malheur National Wildlife Refuge in Burns Oregon earlier this year, in her first-ever interview. The occupation of the refuge ended with the death of rancher Robert “LaVoy” Finicum and the arrests of dozens of other protestors. \\nOnly much of what she said was a lie and interviewer Bobby Powell, Publisher of The Truth Is Viral news program, knew it. Eye-witness testimony from three separate individuals dispute Linnell’s account of events during the raid of a campground in Maryland during Operation American Spring by more than 40 agents from the Department of Homeland Security, the FBI, Maryland State Police, and the Secret Service. \\nThe witnesses all say Linnell was escorted away from the campground by the Secret Service while her frie...   \n",
       "2880  A couple of weeks ago in this space I pushed back against assertions by FiveThirtyEight number-cruncher Harry Enten that Gary Johnson's polls have been \"trending downwards,\" indicating that \"voters may be moving away from third-party options.\" Well, today Enten is back with an interesting piece headlined \"Gary Johnson Isn't Fading.\"\\n\\nWhile noting what we have been warning you about here for years—third-party candidates typically see their crest of polling support halved by Election Day, according to Gallup—Enten explains that Johnson's numbers have so far not followed this pattern. In fact, the Libertarian may have already weathered the most difficult part of the calendar: \"Most third-party candidates didn't lose that much support between late summer and Election Day,\" Enten writes. \"Besides John Anderson in 1980, no candidate ended up finishing more than 3 percentage points below where they were polling in late August. The average drop-off is about 2 percentage points.\"\\n\\nSo ho...   \n",
       "2920  Nearly 300K New Jobs In February; Unemployment Dips To 5.5 Percent\\n\\nThe U.S. economy added 295,000 jobs last month, according to the Labor Department's monthly survey, and the unemployment rate dropped to 5.5 percent. The latest strong data beat expectations and follow a robust jump the previous month — a sign that the nation's economy is finally picking up steam.\\n\\nEconomists had predicted the economy would add 240,000 jobs in February and that the unemployment rate would notch back down to 5.6 percent, where it stood for December. The slight increase in the rate last month was attributed to strong growth in the labor force.\\n\\nThe average workweek for nonfarm payrolls was 34.6 hours, a figure that has held steady for five months. The average hourly wage rose 3 cents, to $24.78.\\n\\nAs NPR's John Ydstie reported this morning ahead of this morning's release by the department's Bureau of Labor Statistics, the report for January \"was stellar on almost every count. It revealed a mon...   \n",
       "3010    WashingtonsBlog \\nBy Robert Parry, the investigative reporter who many of the Iran-Contra stories for The Associated Press and Newsweek in the 1980s. Originally published at Parry’s Consortium News (republished with permission). \\nIn the end, Hillary Clinton became the face of a corrupt, arrogant and out-of-touch Establishment, while Donald Trump emerged as an almost perfectly imperfect vessel for a populist fury that had bubbled beneath the surface of America. \\nThere is clearly much to fear from a Trump presidency, especially coupled with continued Republican control of Congress. Trump and many Republicans have denied the reality of climate change; they favor more tax cuts for the rich; they want to deregulate Wall Street and other powerful industries – all policies that helped create the current mess that the United States and much of the world are now in. A sign supporting Donald Trump at a rally at Veterans Memorial Coliseum at the Arizona State Fairgrounds in Phoenix, Arizo...   \n",
       "3069  Jesse Matthew Jr., a former hospital worker, was indicted Monday on a count of first-degree murder in the abduction and killing of Hannah Graham, a University of Virginia student, who was missing for weeks before her body was discovered, law enforcement officials said Tuesday.\\n\\nAlbemarle County prosecutor Denise Lunsford said that the state will not seek the death penalty, and that Graham's family has been informed about the state's decision.\\n\\nLunsford declined to say why Matthew was not charged with the higher count of capital murder. The abduction and first-degree murder charges are punishable by up to life in prison. Matthew, 33, was already charged with abduction with intent to defile the 18-year-old.\\n\\nPolice have said forensic evidence also links Matthew to the 2009 disappearance and death of 20-year-old Virginia Tech student Morgan Harrington, whose body also was found in the county. Lunsford said \"there are no pending charges\" against Matthew in the Harrington case.\\n\\...   \n",
       "3110    WATCH: Mass Shooting Occurs During #TrumpRiot; Media Ignores (Video) WATCH: Mass Shooting Occurs During #TrumpRiot; Media Ignores (Video)  45 pm by Guest Author   Renee Nal | New Zeal Seattle’s Socialist Alternative organize anti-Trump rally. Note the manufactured signs and the hammer & sickle logo. \\n“The five victims range in age from their 20s to 50s, and they have gunshot wounds to their legs, chest and neck.”– The Seattle Times , November 10, 2016 \\nSeattle police are assuring citizens that a virtually unreported mass shooting has nothing to do with an anti-Trump rally incited by Seattle socialists, featuring Kshama Sawant, the Marxist Seattle city council member who is significant as being the only socialist to run openly as a member of Socialist Alternative , a Trotskyist organization. \\nThe shooting occurred “outside the 7-Eleven store on Third Avenue between Pike and Pine streets,” close to where protesters gathered, carrying their “Socialist Alternative” signs after bei...   \n",
       "3130  By: The Voice of Reason | Regardless of how much information gets released through Wikileaks or Project Veritas revealing grossly immoral, or even criminal conduct between members of the Clinton campaign, neither the mainstream media nor our woefully corrupt Department of Injustice have done anything to even slow the Clinton Crime Syndicate’s march toward the oval office. With each passing day that brings us closer to the election, lies continue to be pumped out with impunity to the voting public at large by the very institutions the public should be able to trust to give them fair and honest reporting or education on important matters. In the following interview, legendary investor Jim Rogers, explains in detail why nothing being reported about the economy is true, and why financial and economic collapse is imminent. Who is Jim Rogers? Why should you care what he says? First of all, listen to him because he’s right. Start learning facts, and stop listening to mainstream media prop...   \n",
       "3210  Islamic State militants have acknowledged for the first time that they have been defeated in the Syrian town of Kobani, blaming withering airstrikes by a U.S.-led coalition for forcing them to flee the town on the Turkish border.\\n\\nAlthough not a strategic site itself, Kobani — known by the militants as Ayn al-Islam — had turned into a test of wills between the militants and the coalition. At one point, Islamic State fighters controlled almost all of the town of 45,000 people and were on the verge of capturing it outright.\\n\\nIn a video released late Friday by the pro-Islamic State Aamaq News Agency, two fighters made it clear that the coalition's relentless air assault proved too much for the militants.\\n\\n\"A while ago, we retreated a bit from Ayn al-Islam because of the bombardment and the killing of some brothers,\" said one masked fighter who spoke Arabic with a North African accent.\\n\\nIn the video, he vowed to return to drive out the People's Protection Units known as the YPG...   \n",
       "3372  With only about 70 days left until the election, presidential campaign politics have hit a new low. Democratic candidate Hillary Clinton has released a new attack ad claiming Republican rival Donald Trump is a candidate of racists.\\n\\nThe new ad released by Clinton attempts to depict Trump as a racist, a candidate supported by white supremacists and the Ku Klux Klan.\\n\\nIn the campaign commercial, a KKK member is heard saying, \"The reason a lot of Klan members like Donald Trump is because a lot of what he believes we believe in.\"\\n\\nClinton said Trump and Republicans are reinforcing harmful stereotypes, calling it a disturbing preview of the kind of president Trump would be.\\n\\n\"He is taking hate groups mainstream and helping a radical fringe take over the Republican Party,\" she said.\\n\\nTrump said the allegations are the oldest ploy in the Democratic playbook.\\n\\n\"When Democratic policies fail, they are left with only this one, tired argument: 'you're racist, you're racist, you're...   \n",
       "3478  Suspects In Paris Magazine Attack Killed; Market Gunman And 4 Hostages Also Dead\\n\\nA nationwide manhunt for the suspects of France's deadliest terrorist attack in more than 50 years ended in a hail of gunfire on Friday.\\n\\nAfter hours of tension in two separate standoffs that shut down parts of the Paris metro area, the two main suspects in the attack on a satirical magazine and a man who took hostages at a kosher grocery are dead, President François Hollande said in a speech to the nation.\\n\\nHollande also said four hostages had been killed today; he called the week's events \"a tragedy for the nation, an obligation for us to confront terrorists.\"\\n\\n\"We are a free nation that does not give in,\" the French president said. \"We carry an ideal that is greater than us.\"\\n\\nThe standoffs started this morning, when police cornered Said and Chérif Kouachi, who were suspected of killing 12 people in the Charlie Hebdo attack, at a print shop in the small town of Dammartin-en-Goele.\\n\\nWhil...   \n",
       "3537                                                                                                                                                                                                                                                                                                                                                                                                                                                                                                                                                                                                                                                                                                                                                                                                                                                                                                                                                                                         Chart Of The Day: Since 2009 Recovery For The 5%   \n",
       "3578  Before he got to repealing ObamaCare, before he got to dumping Common Core, before he got to abolishing the IRS, Ted Cruz talked about Jesus.\\n\\nIn kicking off his presidential campaign Monday at Liberty University, Cruz began with his father, a Cuban immigrant who washed dishes in Texas for 50 cents an hour, who drank too much along with his wife, who left home when Ted was 3 but came back because “God transformed his heart … Were it not for the transformative love of Jesus Christ, I would have been raised by a single mom.”\\n\\nThat introduction, part of a passionate speech delivered without notes in Lynchburg, Va., helps explain why many in the mainstream media don’t quite know what to make of the Texas senator — or view him as a fringe figure.\\n\\nOn the “Today” show, Kelly O’Donnell said “he’s 44, only been on the national scene a couple of years.” MSNBC’s Jonathan Alter, while not counting him out, also said “he’s only been in the Senate for two years.”\\n\\nPerhaps they had forgo...   \n",
       "3649  The State Department identified two Americans who died in Nepal’s devastating earthquake, and reported two more dead Monday, as the death toll rose past 4,000 and survivors dug through the rubble of their villages seeking shelter and food.\\n\\nSaturday's 7.8 magnitude earthquake triggered an avalanche that buried part of the Mount Everest base camp, killing 18 people, including foreign climbers preparing to make their summit attempts at the world’s tallest peak.\\n\\nAt least four Americans died in the quake, all at the Mount Everest base camp the State Department said Monday. State Department spokesman Jeff Rathke identified two of the American victims as Ely Taplin and Vinh B. Truong.\\n\\nTwo others haven't been named yet, either because consular officials haven't confirmed their identities or next of kin haven't been notified.\\n\\n“We express our deepest sympathies to the families and loved ones of those who died,” Rathke told reporters. He said the State Department was fielding hund...   \n",
       "3706  Incredible smoke haze seen outside NDTV office after Arnab quits; bursting of firecrackers suspected Posted on Tweet (Image via shutterstock.com) \\nAn incredible smoke haze was spotted seen outside the NDTV office on Tuesday. Onlookers claimed that the reason was and uninhibited bursting of firecrackers by people in the building. \\nOne onlooker claimed he also heard loud firecrackers-like noise near the NDTV office area followed by fumes curling up to form a V-sign. \\nExperts say it will be difficult to ascertain the source of the emission. A leading pollution expert opined, “These days such peculiar fumes can be due to firecrackers during the Diwali season or because of pure human emotions giving rise to intense celebrations, revelry, etc.” \\nThis incident, according to the onlooker, happened on Tuesday evening, minutes after the news of journalist Arnab Goswami quitting Times Now surfaced. \\nThe UnReal Times could not verify whether the two events were correlated as the onlooker ...   \n",
       "\n",
       "                                                                                                                                                                                                                                                                                                                                                                                                                                                                                                                                                                                                                                                                                                                                                                                                                                                                                                                                                                                                                                           X1  \\\n",
       "192                                                                                                                                                                                                                                                                                                                                                                                                                                                                                                                                                                                                                                                                                                                                                                                                                                                                                                                                                                                                                                      REAL   \n",
       "308                                                                                                                                                                                                                                                                                                                                                                                                                                                                                                                                                                                                                                                                                                                                                                                                                                                                                                                                                                                                                                      FAKE   \n",
       "382                                                                                                                                                                                                                                                                                                                                                                                                                                                                                                                                                                                                                                                                                                                                                                                                                                                                                                                                                                                                                                      REAL   \n",
       "660                                                                                                                                                                                                                                                                                                                                                                                                                                                                                                                                                                                                                                                                                                                                                                                                                                                                                                                                                                                                                                      REAL   \n",
       "889                                                                                                                                                                                                                                                                                                                                                                                                                                                                                                                                                                                                                                                                                                                                                                                                                                                                                                                                                                                                                                      REAL   \n",
       "911                                                                                                                                                                                                                                                                                                                                                                                                                                                                                                                                                                                                                                                                                                                                                                                                                                                                                                                                                                                                                                      FAKE   \n",
       "1010                                                                                                                                                                                                                                                                                                                                                                                                                                                                                                                                                                                                                                                                                                                                                                                                                                                                                                                                                                                                                                     FAKE   \n",
       "1043                                                                                                                                                                                                                                                                                                                                                                                                                                                                                                                                                                                                                                                                                                                                                                                                                                                                                                                                                                                                                                     FAKE   \n",
       "1218                                                                                                                                                                                                                                                                                                                                                                                                                                                                                                                                                                                                                                                                                                                                                                                                                                                                                                                                                                                                                                     REAL   \n",
       "1438                                                                                                                                                                                                                                                                                                                                                                                                                                                                                                                                                                                                                                                                                                                                                                                                                                                                                                                                                                                                                                     REAL   \n",
       "1493                                                                                                                                                                                                                                                                                                                                                                                                                                                                                                                                                                                                                                                                                                                                                                                                                                                                                                                                                                                                                                     REAL   \n",
       "1591                                                                                                                                                                                                                                                                                                                                                                                                                                                                                                                                                                                                                                                                                                                                                                                                                                                                                                                                                                                                                                     REAL   \n",
       "1630                                                                                                                                                                                                                                                                                                                                                                                                                                                                                                                                                                                                                                                                                                                                                                                                                                                                                                                                                                                                                                     FAKE   \n",
       "1716                                                                                                                                                                                                                                                                                                                                                                                                                                                                                                                                                                                                                                                                                                                                                                                                                                                                                                                                                                                                                                     REAL   \n",
       "1900                                                                                                                                                                                                                                                                                                                                                                                                                                                                                                                                                                                                                                                                                                                                                                                                                                                                                                                                                                                                                                     FAKE   \n",
       "1968                                                                                                                                                                                                                                                                                                                                                                                                                                                                                                                                                                                                                                                                                                                                                                                                                                                                                                                                                                                                                                     FAKE   \n",
       "2176                                                                                                                                                                                                                                                                                                                                                                                                                                                                                                                                                                                                                                                                                                                                                                                                                                                                                                                                                                                                                                     FAKE   \n",
       "2184  PLANNED PARENTHOOD’S LOBBYING GETS AGGRESSIVE. Congress may have spent August away from Washington but Planned Parenthood’s campaign to convince lawmakers to protect the group’s funding followed them back to their home states. Power Post has more.\\n\\n“Lawmakers will raise the stakes when Congress returns next week by threatening to defund the group through the federal appropriations process. Planned Parenthood’s counter-offensive is widespread and varied and is unfolding inside and outside the Beltway. The group has been organizing rallies, flooding lawmakers’ town hall meetings, commissioning polls, shelling out six figures for television ads and hiring forensics experts to try to discredit undercover video footage that sparked the controversy. The success of these lobbying efforts will be tested when Congress returns and must move a short-term spending bill to keep the government open. Some conservatives in both chambers are pushing to defund Planned Parenthood, even if a standof...   \n",
       "2493                                                                                                                                                                                                                                                                                                                                                                                                                                                                                                                                                                                                                                                                                                                                                                                                                                                                                                                                                                                                                                     FAKE   \n",
       "2549                                                                                                                                                                                                                                                                                                                                                                                                                                                                                                                                                                                                                                                                                                                                                                                                                                                                                                                                                                                                                                     FAKE   \n",
       "2880                                                                                                                                                                                                                                                                                                                                                                                                                                                                                                                                                                                                                                                                                                                                                                                                                                                                                                                                                                                                                                     REAL   \n",
       "2920                                                                                                                                                                                                                                                                                                                                                                                                                                                                                                                                                                                                                                                                                                                                                                                                                                                                                                                                                                                                                                     REAL   \n",
       "3010                                                                                                                                                                                                                                                                                                                                                                                                                                                                                                                                                                                                                                                                                                                                                                                                                                                                                                                                                                                                                                     FAKE   \n",
       "3069                                                                                                                                                                                                                                                                                                                                                                                                                                                                                                                                                                                                                                                                                                                                                                                                                                                                                                                                                                                                                                     REAL   \n",
       "3110                                                                                                                                                                                                                                                                                                                                                                                                                                                                                                                                                                                                                                                                                                                                                                                                                                                                                                                                                                                                                                     FAKE   \n",
       "3130                                                                                                                                                                                                                                                                                                                                                                                                                                                                                                                                                                                                                                                                                                                                                                                                                                                                                                                                                                                                                                     FAKE   \n",
       "3210                                                                                                                                                                                                                                                                                                                                                                                                                                                                                                                                                                                                                                                                                                                                                                                                                                                                                                                                                                                                                                     REAL   \n",
       "3372                                                                                                                                                                                                                                                                                                                                                                                                                                                                                                                                                                                                                                                                                                                                                                                                                                                                                                                                                                                                                                     REAL   \n",
       "3478                                                                                                                                                                                                                                                                                                                                                                                                                                                                                                                                                                                                                                                                                                                                                                                                                                                                                                                                                                                                                                     REAL   \n",
       "3537                                                                                                                                                                                                                                                                                                                                                                                                                                                                                                                                                                                                                                                                                                                                                                                                                                                                                                                                                                                                                 Stagnation for the 95%     \n",
       "3578                                                                                                                                                                                                                                                                                                                                                                                                                                                                                                                                                                                                                                                                                                                                                                                                                                                                                                                                                                                                                                     REAL   \n",
       "3649                                                                                                                                                                                                                                                                                                                                                                                                                                                                                                                                                                                                                                                                                                                                                                                                                                                                                                                                                                                                                                     REAL   \n",
       "3706                                                                                                                                                                                                                                                                                                                                                                                                                                                                                                                                                                                                                                                                                                                                                                                                                                                                                                                                                                                                                                     FAKE   \n",
       "\n",
       "        X2  \n",
       "192    NaN  \n",
       "308    NaN  \n",
       "382    NaN  \n",
       "660    NaN  \n",
       "889    NaN  \n",
       "911    NaN  \n",
       "1010   NaN  \n",
       "1043   NaN  \n",
       "1218   NaN  \n",
       "1438   NaN  \n",
       "1493   NaN  \n",
       "1591   NaN  \n",
       "1630   NaN  \n",
       "1716   NaN  \n",
       "1900   NaN  \n",
       "1968   NaN  \n",
       "2176   NaN  \n",
       "2184  REAL  \n",
       "2493   NaN  \n",
       "2549   NaN  \n",
       "2880   NaN  \n",
       "2920   NaN  \n",
       "3010   NaN  \n",
       "3069   NaN  \n",
       "3110   NaN  \n",
       "3130   NaN  \n",
       "3210   NaN  \n",
       "3372   NaN  \n",
       "3478   NaN  \n",
       "3537  FAKE  \n",
       "3578   NaN  \n",
       "3649   NaN  \n",
       "3706   NaN  "
      ]
     },
     "execution_count": 9,
     "metadata": {},
     "output_type": "execute_result"
    }
   ],
   "source": [
    "incorrect_rows = train_set[~((train_set.label == 'FAKE') | (train_set.label == 'REAL'))]\n",
    "incorrect_rows\n",
    "#BREO: I think all these have in common that they have underheader, so they have title, subtitle and text"
   ]
  },
  {
   "cell_type": "markdown",
   "metadata": {},
   "source": [
    "It seems that the error happened when reading the data because of some delimiters used for the text, dividing it into two features when it should have been just one. \n",
    "\n",
    "Thus, we are going to concatenate those rows and assign the result to the variable text, and assign the proper labels that are stored in X1 to the label variable.\n",
    "\n",
    "Finally, we are going to print the final result to evaluate if the error has been corrected."
   ]
  },
  {
   "cell_type": "code",
   "execution_count": 10,
   "metadata": {},
   "outputs": [],
   "source": [
    "#Breo did this\n",
    "#incorrect_rows_2=incorrect_rows[~((incorrect_rows['label']=='FAKE')|(incorrect_rows['label']=='REAL'))]\n",
    "#incorrect_rows_2.label=incorrect_rows_2.X2"
   ]
  },
  {
   "cell_type": "code",
   "execution_count": 11,
   "metadata": {},
   "outputs": [
    {
     "data": {
      "text/html": [
       "<div>\n",
       "<style scoped>\n",
       "    .dataframe tbody tr th:only-of-type {\n",
       "        vertical-align: middle;\n",
       "    }\n",
       "\n",
       "    .dataframe tbody tr th {\n",
       "        vertical-align: top;\n",
       "    }\n",
       "\n",
       "    .dataframe thead th {\n",
       "        text-align: right;\n",
       "    }\n",
       "</style>\n",
       "<table border=\"1\" class=\"dataframe\">\n",
       "  <thead>\n",
       "    <tr style=\"text-align: right;\">\n",
       "      <th></th>\n",
       "      <th>ID</th>\n",
       "      <th>title</th>\n",
       "      <th>text</th>\n",
       "      <th>label</th>\n",
       "      <th>X1</th>\n",
       "      <th>X2</th>\n",
       "    </tr>\n",
       "  </thead>\n",
       "  <tbody>\n",
       "    <tr>\n",
       "      <th>2184</th>\n",
       "      <td>9</td>\n",
       "      <td>Planned Parenthood’s lobbying effort</td>\n",
       "      <td>pay raises for federal workers and the future Fed rates</td>\n",
       "      <td>PLANNED PARENTHOOD’S LOBBYING GETS AGGRESSIVE. Congress may have spent August away from Washington but Planned Parenthood’s campaign to convince lawmakers to protect the group’s funding followed them back to their home states. Power Post has more.\\n\\n“Lawmakers will raise the stakes when Congress returns next week by threatening to defund the group through the federal appropriations process. Planned Parenthood’s counter-offensive is widespread and varied and is unfolding inside and outside the Beltway. The group has been organizing rallies, flooding lawmakers’ town hall meetings, commissioning polls, shelling out six figures for television ads and hiring forensics experts to try to discredit undercover video footage that sparked the controversy. The success of these lobbying efforts will be tested when Congress returns and must move a short-term spending bill to keep the government open. Some conservatives in both chambers are pushing to defund Planned Parenthood, even if a standof...</td>\n",
       "      <td>PLANNED PARENTHOOD’S LOBBYING GETS AGGRESSIVE. Congress may have spent August away from Washington but Planned Parenthood’s campaign to convince lawmakers to protect the group’s funding followed them back to their home states. Power Post has more.\\n\\n“Lawmakers will raise the stakes when Congress returns next week by threatening to defund the group through the federal appropriations process. Planned Parenthood’s counter-offensive is widespread and varied and is unfolding inside and outside the Beltway. The group has been organizing rallies, flooding lawmakers’ town hall meetings, commissioning polls, shelling out six figures for television ads and hiring forensics experts to try to discredit undercover video footage that sparked the controversy. The success of these lobbying efforts will be tested when Congress returns and must move a short-term spending bill to keep the government open. Some conservatives in both chambers are pushing to defund Planned Parenthood, even if a standof...</td>\n",
       "      <td>REAL</td>\n",
       "    </tr>\n",
       "    <tr>\n",
       "      <th>3537</th>\n",
       "      <td>6268</td>\n",
       "      <td>Chart Of The Day: Since 2009—–Recovery For The 5%</td>\n",
       "      <td>Stagnation for the 95%Chart Of The Day: Since 2009 Recovery For The 5%</td>\n",
       "      <td>Stagnation for the 95%</td>\n",
       "      <td>Stagnation for the 95%</td>\n",
       "      <td>FAKE</td>\n",
       "    </tr>\n",
       "  </tbody>\n",
       "</table>\n",
       "</div>"
      ],
      "text/plain": [
       "        ID                                              title  \\\n",
       "2184     9               Planned Parenthood’s lobbying effort   \n",
       "3537  6268  Chart Of The Day: Since 2009—–Recovery For The 5%   \n",
       "\n",
       "                                                                         text  \\\n",
       "2184                  pay raises for federal workers and the future Fed rates   \n",
       "3537   Stagnation for the 95%Chart Of The Day: Since 2009 Recovery For The 5%   \n",
       "\n",
       "                                                                                                                                                                                                                                                                                                                                                                                                                                                                                                                                                                                                                                                                                                                                                                                                                                                                                                                                                                                                                                        label  \\\n",
       "2184  PLANNED PARENTHOOD’S LOBBYING GETS AGGRESSIVE. Congress may have spent August away from Washington but Planned Parenthood’s campaign to convince lawmakers to protect the group’s funding followed them back to their home states. Power Post has more.\\n\\n“Lawmakers will raise the stakes when Congress returns next week by threatening to defund the group through the federal appropriations process. Planned Parenthood’s counter-offensive is widespread and varied and is unfolding inside and outside the Beltway. The group has been organizing rallies, flooding lawmakers’ town hall meetings, commissioning polls, shelling out six figures for television ads and hiring forensics experts to try to discredit undercover video footage that sparked the controversy. The success of these lobbying efforts will be tested when Congress returns and must move a short-term spending bill to keep the government open. Some conservatives in both chambers are pushing to defund Planned Parenthood, even if a standof...   \n",
       "3537                                                                                                                                                                                                                                                                                                                                                                                                                                                                                                                                                                                                                                                                                                                                                                                                                                                                                                                                                                                                                 Stagnation for the 95%     \n",
       "\n",
       "                                                                                                                                                                                                                                                                                                                                                                                                                                                                                                                                                                                                                                                                                                                                                                                                                                                                                                                                                                                                                                           X1  \\\n",
       "2184  PLANNED PARENTHOOD’S LOBBYING GETS AGGRESSIVE. Congress may have spent August away from Washington but Planned Parenthood’s campaign to convince lawmakers to protect the group’s funding followed them back to their home states. Power Post has more.\\n\\n“Lawmakers will raise the stakes when Congress returns next week by threatening to defund the group through the federal appropriations process. Planned Parenthood’s counter-offensive is widespread and varied and is unfolding inside and outside the Beltway. The group has been organizing rallies, flooding lawmakers’ town hall meetings, commissioning polls, shelling out six figures for television ads and hiring forensics experts to try to discredit undercover video footage that sparked the controversy. The success of these lobbying efforts will be tested when Congress returns and must move a short-term spending bill to keep the government open. Some conservatives in both chambers are pushing to defund Planned Parenthood, even if a standof...   \n",
       "3537                                                                                                                                                                                                                                                                                                                                                                                                                                                                                                                                                                                                                                                                                                                                                                                                                                                                                                                                                                                                                 Stagnation for the 95%     \n",
       "\n",
       "        X2  \n",
       "2184  REAL  \n",
       "3537  FAKE  "
      ]
     },
     "execution_count": 11,
     "metadata": {},
     "output_type": "execute_result"
    }
   ],
   "source": [
    "incorrect_rows.text = incorrect_rows.text + incorrect_rows.label\n",
    "incorrect_rows.label = incorrect_rows.X1\n",
    "\n",
    "incorrect_rows[~((incorrect_rows.label == 'FAKE') | (incorrect_rows.label == 'REAL'))]"
   ]
  },
  {
   "cell_type": "markdown",
   "metadata": {},
   "source": [
    "It seems that there are still two rows with errors which labels are in X2, thus we are going to assign the corrected rows in a variable, to then assign the incorrect rows to another variable where we will assign the correct label. Finally, we will concatenate both variables into a single variable and evaluate if the labels have been fixed."
   ]
  },
  {
   "cell_type": "code",
   "execution_count": 12,
   "metadata": {},
   "outputs": [
    {
     "data": {
      "text/plain": [
       "array(['FAKE', 'REAL'], dtype=object)"
      ]
     },
     "execution_count": 12,
     "metadata": {},
     "output_type": "execute_result"
    }
   ],
   "source": [
    "#  Fixing the remaining rows with errors\n",
    "corrected_rows = incorrect_rows[((incorrect_rows.label == 'FAKE') | (incorrect_rows.label == 'REAL'))]\n",
    "incorrect_rows = incorrect_rows[~((incorrect_rows.label == 'FAKE') | (incorrect_rows.label == 'REAL'))]\n",
    "\n",
    "incorrect_rows.label = incorrect_rows.X2\n",
    "\n",
    "corrected_rows = pd.concat([corrected_rows,incorrect_rows],ignore_index=True)\n",
    "np.unique(corrected_rows.label)"
   ]
  },
  {
   "cell_type": "markdown",
   "metadata": {},
   "source": [
    "All the wrong labels have been corrected, thus we are going to filter the train_set just with the correct rows to then concatenate it with the corrected ones. Finally, we are going to filter the X1 and X2 columns as they do not have any useful information anymore."
   ]
  },
  {
   "cell_type": "code",
   "execution_count": 13,
   "metadata": {},
   "outputs": [],
   "source": [
    "# Subsetting the train_set to eliminate the rows with errors to then concatenate it with the fixed ones\n",
    "train_set = train_set[((train_set.label == 'FAKE') | (train_set.label == 'REAL'))]\n",
    "train_set = pd.concat([train_set,incorrect_rows],ignore_index=True)\n",
    "\n",
    "# Subsetting the train_set to not work with the features X1 and X2 as they are 100% empty after fixing the\n",
    "# rows with errors\n",
    "train_set = train_set[[\"ID\",\"title\",\"text\",\"label\"]]"
   ]
  },
  {
   "cell_type": "code",
   "execution_count": 14,
   "metadata": {},
   "outputs": [
    {
     "data": {
      "text/plain": [
       "array(['FAKE', 'REAL'], dtype=object)"
      ]
     },
     "execution_count": 14,
     "metadata": {},
     "output_type": "execute_result"
    }
   ],
   "source": [
    "np.unique(train_set.label)"
   ]
  },
  {
   "cell_type": "markdown",
   "metadata": {},
   "source": [
    "### Target variable distribution on trainning set"
   ]
  },
  {
   "cell_type": "markdown",
   "metadata": {},
   "source": [
    "Once the dataset is cleaned, it is necessary to check the proportion of the different values of the target variable to make sure it is a balanced dataset. As depicted below, the **dataset is balanced** regarding the target variable."
   ]
  },
  {
   "cell_type": "code",
   "execution_count": 15,
   "metadata": {},
   "outputs": [
    {
     "name": "stdout",
     "output_type": "stream",
     "text": [
      "REAL:  1991 instances    50.2%\n",
      "FAKE:  1977 instances    49.8%\n"
     ]
    }
   ],
   "source": [
    "calculate_target_proportion(train_set)"
   ]
  },
  {
   "cell_type": "markdown",
   "metadata": {},
   "source": [
    "## 1.3. Extracting and training data"
   ]
  },
  {
   "cell_type": "markdown",
   "metadata": {},
   "source": [
    "### Defining train and test set\n",
    "Once the dataset has been cleaned is time to separate the labels and prepare the training and test set"
   ]
  },
  {
   "cell_type": "code",
   "execution_count": 16,
   "metadata": {},
   "outputs": [],
   "source": [
    "# Set independent and dependent variables x and y\n",
    "x = train_set.text\n",
    "y = train_set.label\n",
    "\n",
    "# Make training and test sets \n",
    "X_train, X_test, y_train, y_test = train_test_split(x, y, test_size=0.3, random_state=198374)"
   ]
  },
  {
   "cell_type": "markdown",
   "metadata": {},
   "source": [
    "### Building Vectorized Classifiers\n",
    "In order to determine if the words and tokens in the articles have a discriminative power to determine if the news are FAKE or REAL CountVectorizer (Bag of Words) and TfidfVectorizer will be used.\n",
    "\n",
    "In order to elminate the words that appear in more than 70% of the articles (no discriminative power) the parameter max_df of the TfidfVectorizer will be set to 0.7. Additionaly, the stop_words parameter will be added to the CountVectorizer function to remove them due to the same reason. "
   ]
  },
  {
   "cell_type": "markdown",
   "metadata": {},
   "source": [
    "#### CountVectorizer"
   ]
  },
  {
   "cell_type": "code",
   "execution_count": 17,
   "metadata": {},
   "outputs": [],
   "source": [
    "# Initialize the `count_vectorizer` \n",
    "count_vectorizer = CountVectorizer(stop_words='english')\n",
    "\n",
    "# Fit and transform the training data \n",
    "count_train = count_vectorizer.fit_transform(X_train) \n",
    "\n",
    "# Transform the test set \n",
    "count_test = count_vectorizer.transform(X_test)"
   ]
  },
  {
   "cell_type": "markdown",
   "metadata": {},
   "source": [
    "#### TfidfVectorizer"
   ]
  },
  {
   "cell_type": "code",
   "execution_count": 18,
   "metadata": {},
   "outputs": [],
   "source": [
    "# Initialize the `tfidf_vectorizer` \n",
    "tfidf_vectorizer = TfidfVectorizer(stop_words='english', max_df=0.7) \n",
    "\n",
    "# Fit and transform the training data \n",
    "tfidf_train = tfidf_vectorizer.fit_transform(X_train) \n",
    "\n",
    "# Transform the test set \n",
    "tfidf_test = tfidf_vectorizer.transform(X_test)"
   ]
  },
  {
   "cell_type": "markdown",
   "metadata": {},
   "source": [
    "#### Results Analysis"
   ]
  },
  {
   "cell_type": "code",
   "execution_count": 19,
   "metadata": {},
   "outputs": [
    {
     "name": "stdout",
     "output_type": "stream",
     "text": [
      "['ź50', 'ελληνικά', 'октября', 'русский', 'эa', 'эin', 'эthe', 'яркий', 'عربي', 'ยงade']\n",
      "['00', '000', '0000', '00000031', '0002', '000billion', '000km', '001', '003', '004']\n"
     ]
    }
   ],
   "source": [
    "# Get the feature names of `tfidf_vectorizer` \n",
    "print(tfidf_vectorizer.get_feature_names()[-10:])\n",
    "#print(tfidf_vectorizer.get_feature_names())\n",
    "\n",
    "# Get the feature names of `count_vectorizer` \n",
    "print(count_vectorizer.get_feature_names()[:10])\n",
    "#print(count_vectorizer.get_feature_names())"
   ]
  },
  {
   "cell_type": "markdown",
   "metadata": {},
   "source": [
    "As it can be seen there is still a lot of noise in the dataset, thus the pre-processing step will be run iteratively until a sort of clean dataset is obtained."
   ]
  },
  {
   "cell_type": "code",
   "execution_count": 20,
   "metadata": {},
   "outputs": [
    {
     "name": "stdout",
     "output_type": "stream",
     "text": [
      "\n",
      "\n",
      "NAIVE BAYES CLASSIFIER\n",
      "-------------------------------------\n",
      "NB with TfIdf accuracy:   0.811\n",
      "NB with Tf accuracy:   0.882\n",
      "\n",
      "\n",
      "PASSIVE AGGRESIVE CLASSIFIER\n",
      "-------------------------------------\n",
      "Passive Aggresive with TfIdf accuracy:   0.915\n",
      "Passive Aggresive with Tf accuracy:   0.869\n",
      "\n",
      "\n",
      "MAXIMUM ENTROPY CLASSIFIER\n",
      "-------------------------------------\n",
      "Maximum Entropy with TfIdf accuracy:   0.895\n",
      "Maximum Entropy with Tf accuracy:   0.895\n",
      "\n",
      "\n",
      "SVM CLASSIFIER\n",
      "-------------------------------------\n",
      "SVM with TfIdf accuracy:   0.490\n",
      "SVM with Tf accuracy:   0.732\n",
      "\n",
      "\n",
      "The best model is passive_clf_tfidf with an accuracy of: 0.915\n"
     ]
    },
    {
     "data": {
      "image/png": "[encoded data removed]",
      "text/plain": [
       "<Figure size 432x288 with 9 Axes>"
      ]
     },
     "metadata": {
      "needs_background": "light"
     },
     "output_type": "display_data"
    }
   ],
   "source": [
    "classifiers(count_train,count_test,tfidf_train,tfidf_test,y_train, y_test)"
   ]
  },
  {
   "cell_type": "markdown",
   "metadata": {},
   "source": [
    "## 1.4. Modelling"
   ]
  },
  {
   "cell_type": "markdown",
   "metadata": {},
   "source": [
    "### Confusion Matrix\n",
    "Firstly, a function to plot the confusion matrix of the models will be implemented due to the importance that false positives have in Fake News analysis, as it may be better not to classify a Real News as Fake. This function is defined in the **[utils.py](./utils.py)** file as **plot_confusion_matrix**."
   ]
  },
  {
   "cell_type": "code",
   "execution_count": null,
   "metadata": {},
   "outputs": [],
   "source": []
  },
  {
   "cell_type": "markdown",
   "metadata": {},
   "source": [
    "We are going to try several models over the **TfIdf** and **TF(Bag-of-words)** approach to determine the one with the highest performance, then we are going to work on the hyperparameter tunning and cross validation to try to improve its value."
   ]
  },
  {
   "cell_type": "markdown",
   "metadata": {},
   "source": [
    "### Naive Bayes\n",
    "The first model that will be tested is the Naive Bayes classifier which is the most common model used for NLP tasks."
   ]
  },
  {
   "cell_type": "code",
   "execution_count": 21,
   "metadata": {},
   "outputs": [],
   "source": [
    "# Model definition\n",
    "clf = MultinomialNB() "
   ]
  },
  {
   "cell_type": "markdown",
   "metadata": {},
   "source": [
    "#### Naive Bayes performance with TfIdf"
   ]
  },
  {
   "cell_type": "code",
   "execution_count": 22,
   "metadata": {},
   "outputs": [
    {
     "name": "stdout",
     "output_type": "stream",
     "text": [
      "accuracy:   0.811\n"
     ]
    },
    {
     "data": {
      "image/png": "[encoded data removed]",
      "text/plain": [
       "<Figure size 432x288 with 2 Axes>"
      ]
     },
     "metadata": {
      "needs_background": "light"
     },
     "output_type": "display_data"
    }
   ],
   "source": [
    "clf.fit(tfidf_train, y_train)\n",
    "pred = clf.predict(tfidf_test)\n",
    "score = accuracy_score(y_test, pred)\n",
    "print(\"accuracy:   %0.3f\" % score)\n",
    "cm = confusion_matrix(y_test, pred, labels=['FAKE', 'REAL'])\n",
    "plot_confusion_matrix(cm, classes=['FAKE', 'REAL'])"
   ]
  },
  {
   "cell_type": "markdown",
   "metadata": {},
   "source": [
    "#### Naive Bayes performance with Bag-of-words"
   ]
  },
  {
   "cell_type": "code",
   "execution_count": 23,
   "metadata": {},
   "outputs": [
    {
     "name": "stdout",
     "output_type": "stream",
     "text": [
      "accuracy:   0.882\n"
     ]
    },
    {
     "data": {
      "image/png": "[encoded data removed]",
      "text/plain": [
       "<Figure size 432x288 with 2 Axes>"
      ]
     },
     "metadata": {
      "needs_background": "light"
     },
     "output_type": "display_data"
    }
   ],
   "source": [
    "clf.fit(count_train, y_train)\n",
    "pred = clf.predict(count_test)\n",
    "score = accuracy_score(y_test, pred)\n",
    "print(\"accuracy:   %0.3f\" % score)\n",
    "cm = confusion_matrix(y_test, pred, labels=['FAKE', 'REAL'])\n",
    "plot_confusion_matrix(cm, classes=['FAKE', 'REAL'])"
   ]
  },
  {
   "cell_type": "markdown",
   "metadata": {},
   "source": [
    "### Pasive Agressive Classifier"
   ]
  },
  {
   "cell_type": "code",
   "execution_count": 24,
   "metadata": {},
   "outputs": [],
   "source": [
    "linear_clf = PassiveAggressiveClassifier(n_iter=50)"
   ]
  },
  {
   "cell_type": "markdown",
   "metadata": {},
   "source": [
    "#### Pasive Aggresive Classifier performance with TfIdf"
   ]
  },
  {
   "cell_type": "code",
   "execution_count": 25,
   "metadata": {},
   "outputs": [
    {
     "name": "stdout",
     "output_type": "stream",
     "text": [
      "accuracy:   0.913\n"
     ]
    },
    {
     "data": {
      "image/png": "[encoded data removed]",
      "text/plain": [
       "<Figure size 432x288 with 2 Axes>"
      ]
     },
     "metadata": {
      "needs_background": "light"
     },
     "output_type": "display_data"
    }
   ],
   "source": [
    "linear_clf.fit(tfidf_train, y_train)\n",
    "pred = linear_clf.predict(tfidf_test)\n",
    "score = accuracy_score(y_test, pred)\n",
    "print(\"accuracy:   %0.3f\" % score)\n",
    "cm = confusion_matrix(y_test, pred, labels=['FAKE', 'REAL'])\n",
    "plot_confusion_matrix(cm, classes=['FAKE', 'REAL'])"
   ]
  },
  {
   "cell_type": "markdown",
   "metadata": {},
   "source": [
    "#### Pasive Aggresive Classifier performance with Bag-of-words"
   ]
  },
  {
   "cell_type": "code",
   "execution_count": 26,
   "metadata": {},
   "outputs": [
    {
     "name": "stdout",
     "output_type": "stream",
     "text": [
      "accuracy:   0.868\n"
     ]
    },
    {
     "data": {
      "image/png": "[encoded data removed]",
      "text/plain": [
       "<Figure size 432x288 with 2 Axes>"
      ]
     },
     "metadata": {
      "needs_background": "light"
     },
     "output_type": "display_data"
    }
   ],
   "source": [
    "linear_clf.fit(count_train, y_train)\n",
    "pred = linear_clf.predict(count_test)\n",
    "score = accuracy_score(y_test, pred)\n",
    "print(\"accuracy:   %0.3f\" % score)\n",
    "cm = confusion_matrix(y_test, pred, labels=['FAKE', 'REAL'])\n",
    "plot_confusion_matrix(cm, classes=['FAKE', 'REAL'])"
   ]
  },
  {
   "cell_type": "markdown",
   "metadata": {},
   "source": [
    "### MaxEnt (Logistic Regression) Classifier\n",
    "..."
   ]
  },
  {
   "cell_type": "code",
   "execution_count": 27,
   "metadata": {},
   "outputs": [],
   "source": [
    "max_ent = LogisticRegression()"
   ]
  },
  {
   "cell_type": "markdown",
   "metadata": {},
   "source": [
    "#### MaxEnt Classifier performance with TfIdf"
   ]
  },
  {
   "cell_type": "code",
   "execution_count": 28,
   "metadata": {},
   "outputs": [
    {
     "name": "stdout",
     "output_type": "stream",
     "text": [
      "accuracy:   0.895\n"
     ]
    },
    {
     "data": {
      "image/png": "[encoded data removed]",
      "text/plain": [
       "<Figure size 432x288 with 2 Axes>"
      ]
     },
     "metadata": {
      "needs_background": "light"
     },
     "output_type": "display_data"
    }
   ],
   "source": [
    "max_ent.fit(tfidf_train, y_train)\n",
    "pred = max_ent.predict(tfidf_test)\n",
    "score = accuracy_score(y_test, pred)\n",
    "print(\"accuracy:   %0.3f\" % score)\n",
    "cm = confusion_matrix(y_test, pred, labels=['FAKE', 'REAL'])\n",
    "plot_confusion_matrix(cm, classes=['FAKE', 'REAL'])"
   ]
  },
  {
   "cell_type": "markdown",
   "metadata": {},
   "source": [
    "#### MaxEnt Classifier performance with Bag-of-words"
   ]
  },
  {
   "cell_type": "code",
   "execution_count": 29,
   "metadata": {},
   "outputs": [
    {
     "name": "stdout",
     "output_type": "stream",
     "text": [
      "accuracy:   0.895\n"
     ]
    },
    {
     "data": {
      "image/png": "[encoded data removed]",
      "text/plain": [
       "<Figure size 432x288 with 2 Axes>"
      ]
     },
     "metadata": {
      "needs_background": "light"
     },
     "output_type": "display_data"
    }
   ],
   "source": [
    "max_ent.fit(count_train, y_train)\n",
    "pred = max_ent.predict(count_test)\n",
    "score = accuracy_score(y_test, pred)\n",
    "print(\"accuracy:   %0.3f\" % score)\n",
    "cm = confusion_matrix(y_test, pred, labels=['FAKE', 'REAL'])\n",
    "plot_confusion_matrix(cm, classes=['FAKE', 'REAL'])"
   ]
  },
  {
   "cell_type": "markdown",
   "metadata": {},
   "source": [
    "### Support Vector Machine Classifier\n",
    "..."
   ]
  },
  {
   "cell_type": "code",
   "execution_count": 30,
   "metadata": {},
   "outputs": [],
   "source": [
    "svc_clf = SVC()"
   ]
  },
  {
   "cell_type": "markdown",
   "metadata": {},
   "source": [
    "#### SVM Classifier performance with TfIdf"
   ]
  },
  {
   "cell_type": "code",
   "execution_count": 31,
   "metadata": {},
   "outputs": [
    {
     "name": "stdout",
     "output_type": "stream",
     "text": [
      "accuracy:   0.490\n"
     ]
    },
    {
     "data": {
      "image/png": "[encoded data removed]",
      "text/plain": [
       "<Figure size 432x288 with 2 Axes>"
      ]
     },
     "metadata": {
      "needs_background": "light"
     },
     "output_type": "display_data"
    }
   ],
   "source": [
    "svc_clf.fit(tfidf_train, y_train)\n",
    "pred = svc_clf.predict(tfidf_test)\n",
    "score = accuracy_score(y_test, pred)\n",
    "print(\"accuracy:   %0.3f\" % score)\n",
    "cm = confusion_matrix(y_test, pred, labels=['FAKE', 'REAL'])\n",
    "plot_confusion_matrix(cm, classes=['FAKE', 'REAL'])"
   ]
  },
  {
   "cell_type": "markdown",
   "metadata": {},
   "source": [
    "#### SVM Classifier performance with Bag-of-words"
   ]
  },
  {
   "cell_type": "code",
   "execution_count": 32,
   "metadata": {},
   "outputs": [
    {
     "name": "stdout",
     "output_type": "stream",
     "text": [
      "accuracy:   0.732\n"
     ]
    },
    {
     "data": {
      "image/png": "[encoded data removed]",
      "text/plain": [
       "<Figure size 432x288 with 2 Axes>"
      ]
     },
     "metadata": {
      "needs_background": "light"
     },
     "output_type": "display_data"
    }
   ],
   "source": [
    "svc_clf.fit(count_train, y_train)\n",
    "pred = svc_clf.predict(count_test)\n",
    "score = accuracy_score(y_test, pred)\n",
    "print(\"accuracy:   %0.3f\" % score)\n",
    "cm = confusion_matrix(y_test, pred, labels=['FAKE', 'REAL'])\n",
    "plot_confusion_matrix(cm, classes=['FAKE', 'REAL'])"
   ]
  },
  {
   "cell_type": "markdown",
   "metadata": {},
   "source": [
    "## Model Tunning\n",
    "The model with the best performance was the Passive Aggressive Classifier over the TfIdf vectorizer. Thus, the following steps will try to optimize the hyperparameters and apply cross-validation to determine stability of the model."
   ]
  },
  {
   "cell_type": "markdown",
   "metadata": {},
   "source": [
    "### Building a Pipeline"
   ]
  },
  {
   "cell_type": "code",
   "execution_count": 33,
   "metadata": {},
   "outputs": [
    {
     "name": "stdout",
     "output_type": "stream",
     "text": [
      "# Tuning hyper-parameters for recall\n",
      "\n",
      "Best parameters set found on development set:\n",
      "\n",
      "{'n_iter': 5, 'random_state': 3457}\n",
      "\n",
      "Grid scores on development set:\n",
      "\n",
      "0.922 (+/-0.030) for {'n_iter': 5, 'random_state': 3457}\n",
      "0.921 (+/-0.028) for {'n_iter': 50, 'random_state': 3457}\n",
      "0.921 (+/-0.028) for {'n_iter': 200, 'random_state': 3457}\n",
      "0.921 (+/-0.028) for {'n_iter': 1000, 'random_state': 3457}\n",
      "\n",
      "Detailed classification report:\n",
      "\n",
      "The model is trained on the full development set.\n",
      "The scores are computed on the full evaluation set.\n",
      "\n",
      "              precision    recall  f1-score   support\n",
      "\n",
      "        FAKE       0.91      0.91      0.91       583\n",
      "        REAL       0.92      0.92      0.92       608\n",
      "\n",
      "   micro avg       0.92      0.92      0.92      1191\n",
      "   macro avg       0.92      0.92      0.92      1191\n",
      "weighted avg       0.92      0.92      0.92      1191\n",
      "\n",
      "\n",
      "# Tuning hyper-parameters for precision\n",
      "\n",
      "Best parameters set found on development set:\n",
      "\n",
      "{'n_iter': 5, 'random_state': 3457}\n",
      "\n",
      "Grid scores on development set:\n",
      "\n",
      "0.923 (+/-0.030) for {'n_iter': 5, 'random_state': 3457}\n",
      "0.922 (+/-0.028) for {'n_iter': 50, 'random_state': 3457}\n",
      "0.922 (+/-0.028) for {'n_iter': 200, 'random_state': 3457}\n",
      "0.922 (+/-0.028) for {'n_iter': 1000, 'random_state': 3457}\n",
      "\n",
      "Detailed classification report:\n",
      "\n",
      "The model is trained on the full development set.\n",
      "The scores are computed on the full evaluation set.\n",
      "\n",
      "              precision    recall  f1-score   support\n",
      "\n",
      "        FAKE       0.91      0.91      0.91       583\n",
      "        REAL       0.92      0.92      0.92       608\n",
      "\n",
      "   micro avg       0.92      0.92      0.92      1191\n",
      "   macro avg       0.92      0.92      0.92      1191\n",
      "weighted avg       0.92      0.92      0.92      1191\n",
      "\n",
      "\n"
     ]
    }
   ],
   "source": [
    "# Split the dataset into train and test set (hold-out)\n",
    "X_train, X_test= tfidf_train, tfidf_test\n",
    "\n",
    "# Set the parameters by cross-validation\n",
    "tuned_parameters = [{'n_iter': [5, 50, 200, 1000], 'random_state':[3457]}]\n",
    "\n",
    "scores = ['recall', 'precision']\n",
    "\n",
    "for score in scores:\n",
    "    print(\"# Tuning hyper-parameters for %s\" % score)\n",
    "    print()\n",
    "\n",
    "    clf = GridSearchCV(PassiveAggressiveClassifier(), tuned_parameters, cv=10,\n",
    "                       scoring='%s_macro' % score)\n",
    "    clf.fit(X_train, y_train)\n",
    "\n",
    "    print(\"Best parameters set found on development set:\")\n",
    "    print()\n",
    "    print(clf.best_params_)\n",
    "    print()\n",
    "    print(\"Grid scores on development set:\")\n",
    "    print()\n",
    "    means = clf.cv_results_['mean_test_score']\n",
    "    stds = clf.cv_results_['std_test_score']\n",
    "    for mean, std, params in zip(means, stds, clf.cv_results_['params']):\n",
    "        print(\"%0.3f (+/-%0.03f) for %r\"\n",
    "              % (mean, std * 2, params))\n",
    "    print()\n",
    "\n",
    "    print(\"Detailed classification report:\")\n",
    "    print()\n",
    "    print(\"The model is trained on the full development set.\")#Cambiamos full development test por train_set\n",
    "    print(\"The scores are computed on the full evaluation set.\")#Cambiamos full evaluation set por test within the train set\n",
    "    print()\n",
    "    y_true, y_pred = y_test, clf.predict(X_test)\n",
    "    print(classification_report(y_true, y_pred))\n",
    "    print()"
   ]
  },
  {
   "cell_type": "markdown",
   "metadata": {},
   "source": [
    "# 2. Improved model with Preprocessing"
   ]
  },
  {
   "cell_type": "markdown",
   "metadata": {},
   "source": [
    "Now the influence of preprocessing is going to be analysed. For this reason some cleaning and preprocessing steps are going to be performed. "
   ]
  },
  {
   "cell_type": "markdown",
   "metadata": {},
   "source": [
    "## 2.1. Data Cleansing\n",
    "\n",
    "\n",
    "## DATA PRE-PROCESSING\n",
    "\n",
    "Exploring the training_set it can be noticed that in the pre-processing step we need to deal with:\n",
    "* **New lines** are started with the **\"\\n\"** character\n",
    "* **Paragraphs** are initiated with  **\"\\n\\n\"** character\n",
    "* @ symbols, Do we process them?\n",
    "* '•','©',':','>>' symbols must be deleted for the purpose of classifying\n",
    "* Stop words must be removed (for classification purposes)\n",
    "\n",
    "### Normalization\n",
    "From the exploratory part, the following normalization process must be handled:\n",
    "* Capital letters to lower case\n",
    "* Lemmatization"
   ]
  },
  {
   "cell_type": "markdown",
   "metadata": {},
   "source": [
    "### Words longer than 30 letters (To be removed as soon as checking if word belongs to English is finished)"
   ]
  },
  {
   "cell_type": "markdown",
   "metadata": {},
   "source": [
    "According to the following reference: [What is the longest English word?](https://en.oxforddictionaries.com/explore/what-is-the-longest-english-word/ ), the maximum length is 29 letters. So anything higher than that is not a word. Delete or use as feature?"
   ]
  },
  {
   "cell_type": "code",
   "execution_count": 34,
   "metadata": {},
   "outputs": [],
   "source": [
    "features=... #features of the TFVectorizedCounter"
   ]
  },
  {
   "cell_type": "code",
   "execution_count": 35,
   "metadata": {},
   "outputs": [
    {
     "ename": "TypeError",
     "evalue": "'ellipsis' object is not iterable",
     "output_type": "error",
     "traceback": [
      "\u001b[1;31m---------------------------------------------------------------------------\u001b[0m",
      "\u001b[1;31mTypeError\u001b[0m                                 Traceback (most recent call last)",
      "\u001b[1;32m<ipython-input-35-41aae7b4ec93>\u001b[0m in \u001b[0;36m<module>\u001b[1;34m\u001b[0m\n\u001b[1;32m----> 1\u001b[1;33m \u001b[0mover_30\u001b[0m\u001b[1;33m=\u001b[0m\u001b[1;33m[\u001b[0m\u001b[0mfeature\u001b[0m \u001b[1;32mfor\u001b[0m \u001b[0mfeature\u001b[0m \u001b[1;32min\u001b[0m \u001b[0mfeatures\u001b[0m \u001b[1;32mif\u001b[0m \u001b[1;33m(\u001b[0m\u001b[0mlen\u001b[0m\u001b[1;33m(\u001b[0m\u001b[0mfeature\u001b[0m\u001b[1;33m)\u001b[0m\u001b[1;33m>=\u001b[0m\u001b[1;36m30\u001b[0m\u001b[1;33m)\u001b[0m\u001b[1;33m]\u001b[0m\u001b[1;33m\u001b[0m\u001b[1;33m\u001b[0m\u001b[0m\n\u001b[0m\u001b[0;32m      2\u001b[0m \u001b[0mover_30\u001b[0m\u001b[1;33m[\u001b[0m\u001b[1;33m:\u001b[0m\u001b[1;36m5\u001b[0m\u001b[1;33m]\u001b[0m\u001b[1;33m,\u001b[0m\u001b[0mover_30\u001b[0m\u001b[1;33m[\u001b[0m\u001b[1;33m-\u001b[0m\u001b[1;36m5\u001b[0m\u001b[1;33m:\u001b[0m\u001b[1;33m]\u001b[0m\u001b[1;33m\u001b[0m\u001b[1;33m\u001b[0m\u001b[0m\n",
      "\u001b[1;31mTypeError\u001b[0m: 'ellipsis' object is not iterable"
     ]
    }
   ],
   "source": [
    "over_30=[feature for feature in features if (len(feature)>=30)]\n",
    "over_30[:5],over_30[-5:]"
   ]
  },
  {
   "cell_type": "code",
   "execution_count": null,
   "metadata": {},
   "outputs": [],
   "source": [
    "print(f'There are {len(over_30)} features with length larger than 30')"
   ]
  },
  {
   "cell_type": "markdown",
   "metadata": {},
   "source": [
    "### Words not belonging to english"
   ]
  },
  {
   "cell_type": "markdown",
   "metadata": {},
   "source": [
    "Our dataset has news only in English; however, some news in our data sets have words in other languages, so is there any way to detect those words which do not belong to English?\n",
    "\n",
    "We can try to use all the words in the **nltk corpus** and consider them as the all the existing vocabulary of the English language..."
   ]
  },
  {
   "cell_type": "code",
   "execution_count": null,
   "metadata": {},
   "outputs": [],
   "source": [
    "def word_in_corpus(words):\n",
    "    '''Function that removes all non-English words from an input list\n",
    "    :input: list of tokenized words\n",
    "    :output: string with only words in English\n",
    "    '''\n",
    "    from nltk.corpus import words as corpus_dictionary\n",
    "    \n",
    "    news_string=''\n",
    "    for word in words:\n",
    "        if word.lower() in corpus_dictionary.words():\n",
    "            news_string+=' '+word.lower()\n",
    "    return news_string"
   ]
  },
  {
   "cell_type": "code",
   "execution_count": null,
   "metadata": {},
   "outputs": [],
   "source": [
    "my_list=word_tokenize('This is the ~ worst sentence 文本 I & wrote SiNcE my primo de Barcelona wnet to @ Madrid! , Chicago , Washington , Russia , Romania, 北京',language='english')"
   ]
  },
  {
   "cell_type": "code",
   "execution_count": null,
   "metadata": {},
   "outputs": [],
   "source": [
    "word_in_corpus(my_list)"
   ]
  },
  {
   "cell_type": "markdown",
   "metadata": {},
   "source": [
    "If the corpus is used, names of entities and special characters will not be considered as English, so using this function would elminate too much data.\n",
    "\n",
    "We can also try to use complete dictionaries that include names of entities, completting it with special punctuation characters trying to address above issues:"
   ]
  },
  {
   "cell_type": "code",
   "execution_count": null,
   "metadata": {},
   "outputs": [],
   "source": [
    "import json\n",
    "##############################ADD NER?????#######################\n",
    "from string import punctuation\n",
    "set(punctuation)   \n",
    "\n",
    "def words_in_dictionary(words):\n",
    "    collection=json.load(open('words_dictionary.json'))\n",
    "    \n",
    "    news_string=''\n",
    "    for word in words:\n",
    "        if word.lower() in collection:\n",
    "            news_string+=' '+word.lower()\n",
    "    return news_string    \n",
    "    "
   ]
  },
  {
   "cell_type": "code",
   "execution_count": null,
   "metadata": {},
   "outputs": [],
   "source": [
    "words_in_dictionary(my_list)"
   ]
  },
  {
   "cell_type": "code",
   "execution_count": null,
   "metadata": {},
   "outputs": [],
   "source": [
    "def non_english_words_in_df(df,label=[1,2]):\n",
    "    '''Function that reads all the rows of a dataframe en detect non-existing words in English'''\n",
    "    '''For dev: first create a new column to compare the result, when sure, overwrite the column'''\n",
    "    for column in label:\n",
    "    # Every loop in i is a new row in the dataframe\n",
    "        for i in range(df.shape[0]):\n",
    "            # tokenize each row\n",
    "            text_list = word_tokenize(str(df.iloc[i, column]), language='english')\n",
    "\n",
    "\n",
    "            if column == 1:\n",
    "                stamp = 'title_english'\n",
    "            elif column == 2:\n",
    "                stamp = 'text_english'\n",
    "\n",
    "            df.at[i, stamp] = word_in_corpus(text_list)\n",
    "            text_list = []\n",
    "\n",
    "    return df"
   ]
  },
  {
   "cell_type": "code",
   "execution_count": null,
   "metadata": {},
   "outputs": [],
   "source": [
    "#https://pypi.org/project/PyDictionary/\n",
    "#'Download a corpus', if word in corpus, then is english, otherwise not english.\n",
    "#pip install PyDictionary\n",
    "from PyDictionary import PyDictionary"
   ]
  },
  {
   "cell_type": "code",
   "execution_count": null,
   "metadata": {},
   "outputs": [],
   "source": [
    "dict=PyDictionary()"
   ]
  },
  {
   "cell_type": "code",
   "execution_count": null,
   "metadata": {},
   "outputs": [],
   "source": [
    "type(dict.meaning('Madr'))"
   ]
  },
  {
   "cell_type": "code",
   "execution_count": null,
   "metadata": {},
   "outputs": [],
   "source": [
    "def english_words(word):\n",
    "    '''This function takes a word and determines if it exist in English'''\n",
    "    \n",
    "    dict=PyDictionary()\n",
    "    output=dict.meaning(word)\n",
    "    return output"
   ]
  },
  {
   "cell_type": "code",
   "execution_count": null,
   "metadata": {},
   "outputs": [],
   "source": [
    "error_message='The Following Error occured'\n",
    "if type(english_words('heo'))=='NoneType':\n",
    "    print('No english word')"
   ]
  },
  {
   "cell_type": "markdown",
   "metadata": {},
   "source": [
    "## 2.2. Text Normalization\n",
    "### Case Sensitive"
   ]
  },
  {
   "cell_type": "markdown",
   "metadata": {},
   "source": [
    "Both, CountVectorizer and TfidfVectorizer functions have a parameter called **'lowercase'** which deals with the case sensitive problem. However, as it will be presented below, **lower case** is an issue that needs to be handle **during LEMMATIZATION** "
   ]
  },
  {
   "cell_type": "markdown",
   "metadata": {},
   "source": [
    "### Lemmatization"
   ]
  },
  {
   "cell_type": "markdown",
   "metadata": {},
   "source": [
    "Another normalization step is to perform lemmatization to obtain the lemma of the words. This in some way is reducing the number of features, as some words that were different (go, going, went) now will be only one word (go). For such purpose a function called **lemmatizer** was created to perform such operation in the title and text columns of our dataframe."
   ]
  },
  {
   "cell_type": "code",
   "execution_count": null,
   "metadata": {
    "scrolled": true
   },
   "outputs": [],
   "source": [
    "train_set_2=train_set.copy(deep=True)"
   ]
  },
  {
   "cell_type": "code",
   "execution_count": null,
   "metadata": {},
   "outputs": [],
   "source": [
    "from nltk.corpus import wordnet\n",
    "from nltk.tokenize import word_tokenize\n",
    "from nltk.stem import WordNetLemmatizer\n",
    "import nltk"
   ]
  },
  {
   "cell_type": "markdown",
   "metadata": {},
   "source": [
    "**Lemmatizer curiosity**  \n",
    "If the word is lowercase, the lematizer works well:"
   ]
  },
  {
   "cell_type": "code",
   "execution_count": null,
   "metadata": {},
   "outputs": [],
   "source": [
    "lower_case_list=['cats','dogs','went','found','women']\n",
    "for word in lower_case_list:\n",
    "    print(word+' --> '+str( WordNetLemmatizer().lemmatize(word,pos='v')))"
   ]
  },
  {
   "cell_type": "markdown",
   "metadata": {},
   "source": [
    "However, if capital letters are used, the lemmatizer does not work so well:"
   ]
  },
  {
   "cell_type": "code",
   "execution_count": null,
   "metadata": {},
   "outputs": [],
   "source": [
    "upper_case_list=['Cats','Dogs','Went','Found','Women']\n",
    "for word in upper_case_list:\n",
    "    print(word+' --> '+str( WordNetLemmatizer().lemmatize(word,pos='v')))"
   ]
  },
  {
   "cell_type": "markdown",
   "metadata": {},
   "source": [
    "Therefore, we need to **convert to lower case every word before lemmatizing**."
   ]
  },
  {
   "cell_type": "code",
   "execution_count": null,
   "metadata": {},
   "outputs": [],
   "source": [
    "%%time\n",
    "wordnet_lemmatizer(train_set_2)"
   ]
  },
  {
   "cell_type": "code",
   "execution_count": null,
   "metadata": {},
   "outputs": [],
   "source": [
    "# Set independent and dependent variables x and y\n",
    "x = train_set_2.text_wordnet_lemmatized\n",
    "y = train_set_2.label\n",
    "\n",
    "# Make training and test sets \n",
    "X_train, X_test, y_train, y_test = train_test_split(x, y, test_size=0.3, random_state=198374)"
   ]
  },
  {
   "cell_type": "code",
   "execution_count": null,
   "metadata": {},
   "outputs": [],
   "source": [
    "# Initialize the `count_vectorizer` \n",
    "count_vectorizer = CountVectorizer(lowercase=True,max_df=0.7)\n",
    "\n",
    "# Fit and transform the training data \n",
    "count_train = count_vectorizer.fit_transform(X_train) "
   ]
  },
  {
   "cell_type": "code",
   "execution_count": null,
   "metadata": {},
   "outputs": [],
   "source": [
    "len(count_vectorizer.get_feature_names())"
   ]
  },
  {
   "cell_type": "code",
   "execution_count": null,
   "metadata": {},
   "outputs": [],
   "source": [
    "# Initialize the `tfidf_vectorizer` \n",
    "tfidf_vectorizer = TfidfVectorizer(lowercase=True,stop_words='english', max_df=0.7) \n",
    "\n",
    "# Fit and transform the training data \n",
    "tfidf_train = tfidf_vectorizer.fit_transform(X_train) \n",
    "\n",
    "# Transform the test set \n",
    "tfidf_test = tfidf_vectorizer.transform(X_test)"
   ]
  },
  {
   "cell_type": "code",
   "execution_count": null,
   "metadata": {},
   "outputs": [],
   "source": [
    "classifiers(count_train,count_test,tfidf_train,tfidf_test,y_train, y_test)"
   ]
  },
  {
   "cell_type": "code",
   "execution_count": null,
   "metadata": {},
   "outputs": [],
   "source": [
    "# Split the dataset into train and test set (hold-out)\n",
    "X_train, X_test= tfidf_train, tfidf_test\n",
    "\n",
    "# Set the parameters by cross-validation\n",
    "tuned_parameters = [{'n_iter': [5, 50, 200, 1000], 'random_state':[3457]}]\n",
    "\n",
    "scores = ['recall', 'precision']\n",
    "\n",
    "for score in scores:\n",
    "    print(\"# Tuning hyper-parameters for %s\" % score)\n",
    "    print()\n",
    "\n",
    "    clf = GridSearchCV(PassiveAggressiveClassifier(), tuned_parameters, cv=10,\n",
    "                       scoring='%s_macro' % score)\n",
    "    clf.fit(X_train, y_train)\n",
    "\n",
    "    print(\"Best parameters set found on development set:\")\n",
    "    print()\n",
    "    print(clf.best_params_)\n",
    "    print()\n",
    "    print(\"Grid scores on development set:\")\n",
    "    print()\n",
    "    means = clf.cv_results_['mean_test_score']\n",
    "    stds = clf.cv_results_['std_test_score']\n",
    "    for mean, std, params in zip(means, stds, clf.cv_results_['params']):\n",
    "        print(\"%0.3f (+/-%0.03f) for %r\"\n",
    "              % (mean, std * 2, params))\n",
    "    print()\n",
    "\n",
    "    print(\"Detailed classification report:\")\n",
    "    print()\n",
    "    print(\"The model is trained on the full development set.\")\n",
    "    print(\"The scores are computed on the full evaluation set.\")\n",
    "    print()\n",
    "    y_true, y_pred = y_test, clf.predict(X_test)\n",
    "    print(classification_report(y_true, y_pred))\n",
    "    print()"
   ]
  },
  {
   "cell_type": "markdown",
   "metadata": {},
   "source": [
    "# 3. Improved Model (POS tagging with ngrams)"
   ]
  },
  {
   "cell_type": "code",
   "execution_count": 18,
   "metadata": {},
   "outputs": [
    {
     "data": {
      "text/plain": [
       "pandas.core.frame.DataFrame"
      ]
     },
     "execution_count": 18,
     "metadata": {},
     "output_type": "execute_result"
    }
   ],
   "source": [
    "train_set_3=train_set.copy(deep=True)"
   ]
  },
  {
   "cell_type": "code",
   "execution_count": null,
   "metadata": {},
   "outputs": [],
   "source": [
    "#Esta función la dejé corriendo casi 12horas y no terminó...ver cómo hacerla más rápida (quitar 4-grams,...?) o correrla en cluster...\n",
    "%%time\n",
    "ngram_lemmatizer(train_set_3)"
   ]
  },
  {
   "cell_type": "code",
   "execution_count": null,
   "metadata": {},
   "outputs": [],
   "source": [
    "# Set independent and dependent variables x and y\n",
    "x = train_set_3.text_lemmatized\n",
    "y = train_set_3.label\n",
    "\n",
    "# Make training and test sets \n",
    "X_train, X_test, y_train, y_test = train_test_split(x, y, test_size=0.3, random_state=198374)"
   ]
  },
  {
   "cell_type": "code",
   "execution_count": null,
   "metadata": {},
   "outputs": [],
   "source": [
    "# Initialize the `count_vectorizer` \n",
    "count_vectorizer = CountVectorizer(lowercase=True,max_df=0.7)\n",
    "\n",
    "# Fit and transform the training data \n",
    "count_train = count_vectorizer.fit_transform(X_train) "
   ]
  },
  {
   "cell_type": "code",
   "execution_count": null,
   "metadata": {},
   "outputs": [],
   "source": [
    "linear_clf.fit(tfidf_train, y_train)\n",
    "pred = linear_clf.predict(tfidf_test)\n",
    "score = accuracy_score(y_test, pred)\n",
    "print(\"accuracy:   %0.3f\" % score)\n",
    "cm = confusion_matrix(y_test, pred, labels=['FAKE', 'REAL'])\n",
    "plot_confusion_matrix(cm, classes=['FAKE', 'REAL'])"
   ]
  },
  {
   "cell_type": "markdown",
   "metadata": {},
   "source": [
    "Falta por hacer:\n",
    "* train con sólo text, sólo title, title+text (Sebastián)-->Usa la función classifiers() en [clf.py](./clf.py) para pasarle los distintos tfidf y tf. En 6 líneas puedes probar todas las combinaciones (text y/o title) con todos los clasificadores que hemos definido en este proyecto.\n",
    "* cambiar caracteres especiales a 'tags' (Sebastián)\n",
    "* Introducir NER en la parte de reconocer palabras inglesas (Breo)\n",
    "* Arreglar función classifiers() para que la confusion matrix aparezca bien (Breo)"
   ]
  },
  {
   "cell_type": "code",
   "execution_count": null,
   "metadata": {},
   "outputs": [],
   "source": []
  }
 ],
 "metadata": {
  "kernelspec": {
   "display_name": "Python 3",
   "language": "python",
   "name": "python3"
  },
  "language_info": {
   "codemirror_mode": {
    "name": "ipython",
    "version": 3
   },
   "file_extension": ".py",
   "mimetype": "text/x-python",
   "name": "python",
   "nbconvert_exporter": "python",
   "pygments_lexer": "ipython3",
   "version": "3.7.1"
  }
 },
 "nbformat": 4,
 "nbformat_minor": 2
}
